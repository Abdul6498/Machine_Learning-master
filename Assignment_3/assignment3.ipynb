{
 "cells": [
  {
   "cell_type": "markdown",
   "id": "grand-department",
   "metadata": {},
   "source": [
    "# Assignment 3: Linear Regression (100 points)\n",
    "\n",
    "Only use the already imported library `numpy` and the Python standard library. Make sure that the datasets `dataLinReg2D.txt`, `dataQuadReg2D.txt` and `dataQuadReg2D_noisy.txt` are in the same directory as the notebook.\n"
   ]
  },
  {
   "cell_type": "markdown",
   "id": "minute-portugal",
   "metadata": {},
   "source": [
    "==> *Write*\n",
    "* *names* \n",
    "* *matr. nr.* \n",
    "* *study program*\n",
    "* *B.Sc./M.Sc.*\n",
    "\n",
    "*of all assignment group participants here. (double klick here to edit)*"
   ]
  },
  {
   "cell_type": "markdown",
   "id": "thermal-copper",
   "metadata": {},
   "source": [
    "## Task 1: Linear Regression - theory (10 points)\n",
    "1) *(4 points)* Linear regression can have nonlinear input features, why is it still called linear regression? In what sense is it linear?"
   ]
  },
  {
   "cell_type": "markdown",
   "id": "potential-columbia",
   "metadata": {},
   "source": [
    "==> *Write your response here.* (double klick here to edit)"
   ]
  },
  {
   "cell_type": "markdown",
   "id": "desperate-generic",
   "metadata": {},
   "source": [
    "2) *(3 points)* For calculating optimal parameters $\\hat{\\beta}$ the inverse of $X^{\\top}X$ has to be calculated. When would this matrix be singular?"
   ]
  },
  {
   "cell_type": "markdown",
   "id": "angry-reader",
   "metadata": {},
   "source": [
    "==> *Write your response here.* (double klick here to edit)"
   ]
  },
  {
   "cell_type": "markdown",
   "id": "tough-blake",
   "metadata": {},
   "source": [
    "3) *(3 points)* Why does the optimization problem for $L_1$-regularization (Lasso) not have a closed form solution?"
   ]
  },
  {
   "cell_type": "markdown",
   "id": "opponent-connectivity",
   "metadata": {},
   "source": [
    "==> *Write your response here.* (double klick here to edit)"
   ]
  },
  {
   "cell_type": "markdown",
   "id": "essential-stations",
   "metadata": {},
   "source": [
    "## Task 2: Ridge Regression for Polynomial 2D Functions (70 points)\n",
    "Each line in the data sets consists of a data entry `(x,y)` with a 2D point `x` and a 1D function output `y`."
   ]
  },
  {
   "cell_type": "code",
   "execution_count": 2,
   "id": "wired-republic",
   "metadata": {},
   "outputs": [],
   "source": [
    "# Load required packages and datasets. Do not modify.\n",
    "import numpy as np\n",
    "\n",
    "\n",
    "def load_dataset(path):\n",
    "    data = np.loadtxt(path)\n",
    "    X, y = data[:, :2], data[:, 2]\n",
    "    \n",
    "    return X, y\n",
    "    \n",
    "\n",
    "X_lin, y_lin = load_dataset(\"dataLinReg2D.txt\")\n",
    "X_quad, y_quad = load_dataset(\"dataQuadReg2D.txt\")\n",
    "X_noise, y_noise = load_dataset(\"dataQuadReg2D_noisy.txt\")"
   ]
  },
  {
   "cell_type": "markdown",
   "id": "distant-freedom",
   "metadata": {},
   "source": [
    "1) *(5 points)* Draw random samples from the dataset for training, use 70% of the data. Do not modify the interface of the function. Do this for `X_quad` and `X_noise`."
   ]
  },
  {
   "cell_type": "code",
   "execution_count": 13,
   "id": "modern-field",
   "metadata": {},
   "outputs": [
    {
     "output_type": "stream",
     "name": "stdout",
     "text": [
      "70 [ 1.45131  2.10077  5.2415  14.2015   6.28687  2.63999  1.65735  1.84973\n  1.5936   5.93914 17.3139   2.79152  1.28165  4.97582  2.06822  4.29598\n  2.12421  4.51654  2.06546  1.49823  5.86448  1.5392   3.82217  5.08817\n  9.51408  1.30278  5.44264  2.15566  1.59536  6.75806 13.5923  23.663\n  2.43735  6.75188  1.70615  4.46588  1.80535  2.59595  5.02799  2.58967\n  4.06867  3.45738 15.1917   6.39383  4.25406  3.31947  5.01941  4.23633\n  2.2513   1.54746  3.86675  1.88672  1.5219   7.55069  4.67213  1.75698\n  4.43193  3.25097  1.9744   2.60432  1.85641  1.9954   4.95341  4.0708\n  2.57071  1.58166  1.19342  3.78088  1.53254  4.48272  3.98014  2.71951\n  1.15942  1.17415  6.41083  3.80554  1.53079  1.05577  7.62581  8.16751\n  1.80186  1.91427  1.46729  5.22764  2.11754  1.77624  5.10234  1.32959\n  3.03413  2.16991  2.05367  1.30963  4.14644  3.90395  1.84863  1.59201\n  1.1192   4.46245  2.40571  5.75911]\n35 35\n"
     ]
    }
   ],
   "source": [
    "def train_split(X, y, test_split = 0.7):\n",
    "    \"\"\"\n",
    "    Returns X_train, y_train\n",
    "        where X_train are random samples of X and y_train are the corresponding true values.\n",
    "        test_split represents the persentage of how many training samples are drawn from X.\n",
    "    \"\"\"\n",
    "    # Implement your solution here.\n",
    "    np.random.seed(2020)  # Ensure that the random split always returns the same result.\n",
    "    \n",
    "    threshold = int(test_split*X.shape[0])\n",
    "    rnd_idx = np.random.permutation(X.shape[0])\n",
    "    \n",
    "    X_train = X[rnd_idx[:threshold]]\n",
    "#    X_test = X[rnd_idx[threshold:]]\n",
    "    y_train = y[rnd_idx[:threshold]]\n",
    "#    y_test = y[rnd_idx[threshold:]]\n",
    "    return X_train, y_train\n",
    "\n",
    "X_quad_train, y_quad_train = train_split(X_quad, y_quad)\n",
    "X_noise_train, y_noise_train = train_split(X_noise, y_noise)\n",
    "print(len(X_quad_train), y_quad)\n",
    "print(len(X_noise_train), len(y_noise_train))"
   ]
  },
  {
   "cell_type": "markdown",
   "id": "sealed-ladder",
   "metadata": {},
   "source": [
    "2) *(10 points)* Extend the `make_features` method to also compute quadratic features (`ftype = 'quad'`)."
   ]
  },
  {
   "cell_type": "code",
   "execution_count": 54,
   "id": "selective-macintosh",
   "metadata": {},
   "outputs": [
    {
     "output_type": "stream",
     "name": "stdout",
     "text": [
      "6 3\n[[ 1.00000000e+00  9.74633000e-01 -7.92363000e-01  9.49909485e-01\n  -7.72263128e-01  6.27839124e-01]\n [ 1.00000000e+00  3.22351000e-01  1.80340000e+00  1.03910167e-01\n   5.81327793e-01  3.25225156e+00]\n [ 1.00000000e+00  1.35589000e+00  3.89593000e-01  1.83843769e+00\n   5.28245253e-01  1.51782706e-01]\n [ 1.00000000e+00  8.59725000e-02 -1.06930000e+00  7.39127076e-03\n  -9.19303942e-02  1.14340249e+00]\n [ 1.00000000e+00 -6.43600000e-01 -4.00372000e-01  4.14220960e-01\n   2.57679419e-01  1.60297738e-01]\n [ 1.00000000e+00 -8.85820000e-01  6.02299000e-01  7.84677072e-01\n  -5.33528500e-01  3.62764085e-01]\n [ 1.00000000e+00 -5.72700000e-02 -6.80160000e-01  3.27985290e-03\n   3.89527632e-02  4.62617626e-01]\n [ 1.00000000e+00  1.31650000e+00 -5.70268000e-01  1.73317225e+00\n  -7.50757822e-01  3.25205592e-01]\n [ 1.00000000e+00 -1.22690000e+00  3.72067000e-02  1.50528361e+00\n  -4.56489002e-02  1.38433852e-03]\n [ 1.00000000e+00 -3.07733000e-01 -2.17767000e-01  9.46995993e-02\n   6.70140922e-02  4.74224663e-02]\n [ 1.00000000e+00  2.01961000e+00 -1.43457000e-01  4.07882455e+00\n  -2.89727192e-01  2.05799108e-02]\n [ 1.00000000e+00 -3.46529000e-01 -4.74998000e-01  1.20082348e-01\n   1.64600582e-01  2.25623100e-01]\n [ 1.00000000e+00  6.24072000e-01 -4.37087000e-01  3.89465861e-01\n  -2.72773758e-01  1.91045046e-01]\n [ 1.00000000e+00  1.50335000e+00  1.33349000e+00  2.26006122e+00\n   2.00470219e+00  1.77819558e+00]\n [ 1.00000000e+00  1.00832000e+00  1.93650000e-02  1.01670922e+00\n   1.95261168e-02  3.75003225e-04]\n [ 1.00000000e+00  2.61706000e+00  1.87667000e+00  6.84900304e+00\n   4.91135799e+00  3.52189029e+00]\n [ 1.00000000e+00 -2.26652000e+00 -3.21358000e-02  5.13711291e+00\n   7.28364334e-02  1.03270964e-03]\n [ 1.00000000e+00  1.30894000e+00  2.11607000e+00  1.71332392e+00\n   2.76980867e+00  4.47775224e+00]\n [ 1.00000000e+00  1.09092000e+00  1.04312000e+00  1.19010645e+00\n   1.13796047e+00  1.08809933e+00]\n [ 1.00000000e+00  1.20046000e+00  4.69415000e-01  1.44110421e+00\n   5.63513931e-01  2.20350442e-01]\n [ 1.00000000e+00  7.80383000e-01  1.11708000e-02  6.08997627e-01\n   8.71750242e-03  1.24786773e-04]\n [ 1.00000000e+00 -1.00540000e-01 -1.40242000e+00  1.01082916e-02\n   1.40999307e-01  1.96678186e+00]\n [ 1.00000000e+00  1.21726000e+00  1.06692000e+00  1.48172191e+00\n   1.29871904e+00  1.13831829e+00]\n [ 1.00000000e+00  2.33033000e+00  4.44168000e-02  5.43043791e+00\n   1.03505802e-01  1.97285212e-03]\n [ 1.00000000e+00  4.03800000e-01  1.44355000e+00  1.63054440e-01\n   5.82905490e-01  2.08383660e+00]\n [ 1.00000000e+00 -1.35011000e+00 -3.20975000e-01  1.82279701e+00\n   4.33351557e-01  1.03024951e-01]\n [ 1.00000000e+00 -1.52264000e+00 -5.01860000e-02  2.31843257e+00\n   7.64152110e-02  2.51863460e-03]\n [ 1.00000000e+00 -6.12360000e-01 -7.82373000e-01  3.74984770e-01\n   4.79093930e-01  6.12107511e-01]\n [ 1.00000000e+00  9.34571000e-02  3.61430000e-01  8.73422954e-03\n   3.37781997e-02  1.30631645e-01]\n [ 1.00000000e+00  6.02785000e-01 -1.28348000e-01  3.63349756e-01\n  -7.73662492e-02  1.64732091e-02]\n [ 1.00000000e+00  1.49230000e+00  7.05827000e-01  2.22695929e+00\n   1.05330563e+00  4.98191754e-01]\n [ 1.00000000e+00 -9.73672000e-01 -5.78001000e-01  9.48037164e-01\n   5.62783390e-01  3.34085156e-01]\n [ 1.00000000e+00 -5.43634000e-02 -1.92952000e-01  2.95537926e-03\n   1.04895268e-02  3.72304743e-02]\n [ 1.00000000e+00  8.64153000e-02 -1.98039000e+00  7.46760407e-03\n  -1.71135996e-01  3.92194455e+00]\n [ 1.00000000e+00 -8.77569000e-02  8.29806000e-01  7.70127350e-03\n  -7.28212022e-02  6.88577998e-01]\n [ 1.00000000e+00 -1.69160000e-01 -6.50094000e-01  2.86151056e-02\n   1.09969901e-01  4.22622209e-01]\n [ 1.00000000e+00  1.90051000e-01  5.90431000e-01  3.61193826e-02\n   1.12212002e-01  3.48608766e-01]\n [ 1.00000000e+00  2.24335000e+00 -5.40746000e-01  5.03261922e+00\n  -1.21308254e+00  2.92406237e-01]\n [ 1.00000000e+00  2.29005000e+00  1.75977000e+00  5.24432900e+00\n   4.02996129e+00  3.09679045e+00]\n [ 1.00000000e+00  1.19283000e+00 -2.17893000e-01  1.42284341e+00\n  -2.59909307e-01  4.74773594e-02]\n [ 1.00000000e+00 -1.30601000e-02 -7.75068000e-01  1.70566212e-04\n   1.01224656e-02  6.00730405e-01]\n [ 1.00000000e+00  1.50782000e+00  2.62170000e-01  2.27352115e+00\n   3.95305169e-01  6.87331089e-02]\n [ 1.00000000e+00 -4.95035000e-01  1.38466000e+00  2.45059651e-01\n  -6.85455163e-01  1.91728332e+00]\n [ 1.00000000e+00 -2.57561000e+00  1.01092000e-02  6.63376687e+00\n  -2.60373566e-02  1.02195925e-04]\n [ 1.00000000e+00 -5.50798000e-01  7.93548000e-01  3.03378437e-01\n  -4.37084651e-01  6.29718428e-01]\n [ 1.00000000e+00  3.32860000e-01 -7.90275000e-01  1.10795780e-01\n  -2.63050936e-01  6.24534576e-01]\n [ 1.00000000e+00  6.00883000e-01  3.63704000e-01  3.61060380e-01\n   2.18543551e-01  1.32280600e-01]\n [ 1.00000000e+00 -9.67231000e-01 -1.24756000e-01  9.35535807e-01\n   1.20667871e-01  1.55640595e-02]\n [ 1.00000000e+00  8.63570000e-01  9.15796000e-01  7.45753145e-01\n   7.90853952e-01  8.38682314e-01]\n [ 1.00000000e+00 -2.00479000e+00 -1.20705000e+00  4.01918294e+00\n   2.41988177e+00  1.45696970e+00]\n [ 1.00000000e+00 -1.57440000e+00 -1.06133000e+00  2.47873536e+00\n   1.67095795e+00  1.12642137e+00]\n [ 1.00000000e+00 -1.24246000e+00 -5.32174000e-02  1.54370685e+00\n   6.61204908e-02  2.83209166e-03]\n [ 1.00000000e+00 -1.42512000e-01  4.37945000e-01  2.03096701e-02\n  -6.24124178e-02  1.91795823e-01]\n [ 1.00000000e+00 -1.90588000e-01 -1.13174000e+00  3.63237857e-02\n   2.15696063e-01  1.28083543e+00]\n [ 1.00000000e+00  7.17578000e-02  6.57072000e-01  5.14918186e-03\n   4.71500412e-02  4.31743613e-01]\n [ 1.00000000e+00 -8.47836000e-01  1.68174000e+00  7.18825883e-01\n  -1.42583971e+00  2.82824943e+00]\n [ 1.00000000e+00 -2.61233000e+00 -1.60418000e-01  6.82426803e+00\n   4.19064754e-01  2.57339347e-02]\n [ 1.00000000e+00 -1.50264000e-01 -9.07573000e-02  2.25792697e-02\n   1.36375549e-02  8.23688750e-03]\n [ 1.00000000e+00  1.01469000e+00 -1.21428000e+00  1.02959580e+00\n  -1.23211777e+00  1.47447592e+00]\n [ 1.00000000e+00 -1.23068000e-01  7.30712000e-01  1.51457326e-02\n  -8.99272644e-02  5.33940027e-01]\n [ 1.00000000e+00  1.25154000e+00 -5.26393000e-01  1.56635237e+00\n  -6.58801895e-01  2.77089590e-01]\n [ 1.00000000e+00  5.72973000e-01 -3.25019000e-02  3.28298059e-01\n  -1.86227111e-02  1.05637350e-03]\n [ 1.00000000e+00  7.44767000e-01  5.67598000e-01  5.54677884e-01\n   4.22728260e-01  3.22167490e-01]\n [ 1.00000000e+00  7.67336000e-01  1.28563000e+00  5.88804537e-01\n   9.86510182e-01  1.65284450e+00]\n [ 1.00000000e+00  2.74010000e-01  2.59356000e-02  7.50814801e-02\n   7.10661376e-03  6.72655347e-04]\n [ 1.00000000e+00  3.87451000e-02  8.63472000e-01  1.50118277e-03\n   3.34553090e-02  7.45583895e-01]\n [ 1.00000000e+00  1.37652000e+00  8.83576000e-01  1.89480731e+00\n   1.21626004e+00  7.80706548e-01]\n [ 1.00000000e+00 -2.45440000e-01 -1.50491000e+00  6.02407936e-02\n   3.69365110e-01  2.26475411e+00]\n [ 1.00000000e+00 -1.01056000e+00  4.63139000e-01  1.02123151e+00\n  -4.68029748e-01  2.14497733e-01]\n [ 1.00000000e+00 -2.66867000e-01 -7.19600000e-01  7.12179957e-02\n   1.92037493e-01  5.17824160e-01]\n [ 1.00000000e+00 -6.98632000e-01  3.20259000e-01  4.88086671e-01\n  -2.23743186e-01  1.02565827e-01]\n [ 1.00000000e+00 -4.87443000e-01 -5.78519000e-01  2.37600678e-01\n   2.81995037e-01  3.34684233e-01]\n [ 1.00000000e+00  1.11006000e-01 -2.07078000e+00  1.23223320e-02\n  -2.29869005e-01  4.28812981e+00]\n [ 1.00000000e+00 -6.88077000e-01 -2.78516000e+00  4.73449958e-01\n   1.91640454e+00  7.75711623e+00]\n [ 1.00000000e+00 -1.52260000e+00  1.12646000e+00  2.31831076e+00\n  -1.71514800e+00  1.26891213e+00]\n [ 1.00000000e+00  7.17233000e-01  6.85768000e-01  5.14423176e-01\n   4.91855440e-01  4.70277750e-01]\n [ 1.00000000e+00 -3.80492000e-01  5.91730000e-01  1.44774162e-01\n  -2.25148531e-01  3.50144393e-01]\n [ 1.00000000e+00  1.00786000e+00 -2.75130000e-02  1.01578178e+00\n  -2.77292522e-02  7.56965169e-04]\n [ 1.00000000e+00  3.76207000e-01  4.63145000e-01  1.41531707e-01\n   1.74238391e-01  2.14503291e-01]\n [ 1.00000000e+00 -1.77862000e+00  3.36624000e-01  3.16348910e+00\n  -5.98726179e-01  1.13315717e-01]\n [ 1.00000000e+00 -6.69653000e-01  9.38320000e-02  4.48435140e-01\n  -6.28348803e-02  8.80444422e-03]\n [ 1.00000000e+00 -4.78987000e-01  1.15075000e+00  2.29428546e-01\n  -5.51194290e-01  1.32422556e+00]\n [ 1.00000000e+00 -2.75699000e-01 -8.11538000e-01  7.60099386e-02\n   2.23740215e-01  6.58593925e-01]\n [ 1.00000000e+00 -1.85535000e-01  1.61834000e-01  3.44232362e-02\n  -3.00258712e-02  2.61902436e-02]\n [ 1.00000000e+00  2.39935000e+00 -5.60211000e-01  5.75688042e+00\n  -1.34414226e+00  3.13836365e-01]\n [ 1.00000000e+00  4.78475000e-01 -3.80631000e-01  2.28938326e-01\n  -1.82122418e-01  1.44879958e-01]\n [ 1.00000000e+00  1.51748000e-02  4.13237000e-01  2.30274555e-04\n   6.27078883e-03  1.70764818e-01]\n [ 1.00000000e+00  1.87430000e+00 -1.74710000e-01  3.51300049e+00\n  -3.27458953e-01  3.05235841e-02]\n [ 1.00000000e+00 -3.47510000e-02  1.65149000e-01  1.20763200e-03\n  -5.73909290e-03  2.72741922e-02]\n [ 1.00000000e+00  4.40518000e-01  6.19820000e-01  1.94056108e-01\n   2.73041867e-01  3.84176832e-01]\n [ 1.00000000e+00  1.41156000e+00 -1.52320000e-01  1.99250163e+00\n  -2.15008819e-01  2.32013824e-02]\n [ 1.00000000e+00  2.04356000e+00  7.99842000e-01  4.17613747e+00\n   1.63452512e+00  6.39747225e-01]\n [ 1.00000000e+00  1.96347000e+00  6.52255000e-01  3.85521444e+00\n   1.28068312e+00  4.25436585e-01]\n [ 1.00000000e+00  6.37140000e-01  2.49760000e-01  4.05947380e-01\n   1.59132086e-01  6.23800576e-02]\n [ 1.00000000e+00  1.89887000e-01 -4.17674000e-01  3.60570728e-02\n  -7.93108628e-02  1.74451570e-01]\n [ 1.00000000e+00 -1.36930000e+00  2.62116000e-01  1.87498249e+00\n  -3.58915439e-01  6.87047975e-02]\n [ 1.00000000e+00 -1.66794000e+00  1.34258000e+00  2.78202384e+00\n  -2.23934289e+00  1.80252106e+00]\n [ 1.00000000e+00  7.47798000e-02  6.22185000e-01  5.59201849e-03\n   4.65268699e-02  3.87114174e-01]\n [ 1.00000000e+00 -2.92759000e-01 -4.73951000e-01  8.57078321e-02\n   1.38753421e-01  2.24629550e-01]\n [ 1.00000000e+00  2.30967000e-01 -2.55208000e-01  5.33457551e-02\n  -5.89446261e-02  6.51311233e-02]]\n"
     ]
    }
   ],
   "source": [
    "def make_features(X, ftype='quad'):\n",
    "    \"\"\"\n",
    "    generates features from input data, returns Phi.\n",
    "    ftype is used to distinguish types of features\n",
    "    \"\"\"\n",
    "    n, d = X.shape\n",
    "    \n",
    "    if ftype == 'lin': \n",
    "        # Linear feature transformation (including intercept)\n",
    "        #(Rows, Columns)\n",
    "        #(100 rows, 3 columns)\n",
    "        Phi = np.empty((n, d+1))\n",
    "        Phi[:, 0] = 1\n",
    "        Phi[:, 1:] = X\n",
    "        \n",
    "    elif ftype == 'quad':\n",
    "        # Quadratic feature transformation\n",
    "        dim = int(1 + (d + (d*(d + 1))/2))\n",
    "        temp_x_1 = X[:, 0]\n",
    "        temp_x_2 = X[:, 1]\n",
    "        x_1_sq = temp_x_1*temp_x_1\n",
    "        x_1_x_2 = temp_x_1*temp_x_2\n",
    "        x_2_sq = temp_x_2 * temp_x_2\n",
    "        feat = np.array([x_1_sq, x_1_x_2, x_2_sq])\n",
    "        print(dim, len(feat))\n",
    "        Phi = np.empty((n, dim))\n",
    "        Phi[:, 0] = 1\n",
    "        Phi[:, 1:d+1] = X\n",
    "        Phi[:, d+1:] = feat.T\n",
    "        \n",
    "        # Implement your solution here.\n",
    "    \n",
    "    else:\n",
    "        raise Exception(f'Feature type {ftype} not implemented yet')\n",
    "    \n",
    "    return Phi\n",
    "feat = make_features(X_lin)\n",
    "print(feat)"
   ]
  },
  {
   "cell_type": "markdown",
   "id": "alpha-texture",
   "metadata": {},
   "source": [
    "3) *(10 points)* Implement Ridge Regression to fit a polynomial function to the data sets with the regularization parameter `lambda_` and feature type `ftype`.\n",
    "\n",
    "Fill out the methods in `RidgeRegression` to train (`fit`) and predict (`predict`). Feel free to introduce new fields and methods based on your needs, but the methods `fit` and `predict` are required and their interface should not be changed. You need to store the vector of regression coefficients in the field `self.beta`. Before calculating the inverse check if the determinant is non-zero."
   ]
  },
  {
   "cell_type": "code",
   "execution_count": 4,
   "id": "public-jacket",
   "metadata": {},
   "outputs": [],
   "source": [
    "class RidgeRegression(object):\n",
    "    def __init__(self, lambda_, ftype = 'lin'):\n",
    "        self.lambda_ = lambda_\n",
    "        self.ftype = ftype\n",
    "        self.beta = None  # Learned regression coefficients.\n",
    "    \n",
    "    def fit(self, X, y):\n",
    "        \"\"\"\n",
    "        X is an array of shape (n, d), \n",
    "            where n is the number of samples and d is the number of features.\n",
    "        y is an array of shape (n,)\n",
    "        \"\"\"\n",
    "        \n",
    "        Phi = make_features(X, self.ftype)\n",
    "        \n",
    "        # Implement your solution here.\n",
    "    \n",
    "    def predict(self, X):\n",
    "        \"\"\"\n",
    "        X is an array with shape (n, d).\n",
    "        The method returns an array of shape (n,).\n",
    "        \"\"\"\n",
    "        Phi = make_features(X, self.ftype)\n",
    "        \n",
    "        # Implement your solution here.\n",
    "        \n",
    "        return None"
   ]
  },
  {
   "cell_type": "markdown",
   "id": "billion-revolution",
   "metadata": {},
   "source": [
    "4) *(5 points)* Implement the function `MSE` to compute the mean squared error. `y_pred` and `y_true` are the vectors of predicted and true function outputs respectively with shape `(n,)`, where `n` is the number of samples. The function returns a single float."
   ]
  },
  {
   "cell_type": "code",
   "execution_count": 5,
   "id": "ranging-liberty",
   "metadata": {},
   "outputs": [],
   "source": [
    "def MSE(y_pred, y_true):\n",
    "    \"\"\"\n",
    "    return the mean squared error of y_pred and y_true\n",
    "    \"\"\"\n",
    "    # Implement your solution here.\n",
    "    return None"
   ]
  },
  {
   "cell_type": "markdown",
   "id": "intense-plenty",
   "metadata": {},
   "source": [
    "5) *(30 points)* Evaluate your Ridge Regression model with linear features on the linear `(X_lin, y_lin)` data set. Report the MSE on the full data set when trained on the full dataset. Repeat this for different Ridge regularization parameters `lambda_` and generate a nice plot of the MSE for various `lambda_`. Plot the values of `lambda_` on the x-axis on a logarithmical scale and the error on the y-axis. print the minimal `lambda_`.\n",
    "\n",
    "How does it perform with quadratic features on this data set?"
   ]
  },
  {
   "cell_type": "code",
   "execution_count": 6,
   "id": "worst-acoustic",
   "metadata": {},
   "outputs": [],
   "source": [
    "import matplotlib.pyplot as plt\n",
    "\n",
    "def train_evaluate(regression_model, X, y):\n",
    "    \"\"\"\n",
    "    Use X and y to fit the regression_model and make prediction over the same dataset.\n",
    "    Print the error\n",
    "    \"\"\"\n",
    "    regression_model.fit(X, y)\n",
    "    yhat = regression_model.predict(X)\n",
    "    print(f'MSE: {MSE(yhat, y)}, feature type: {regression_model.ftype}')\n",
    "    \n",
    "def plot_data_and_model(regression_model, X, y):\n",
    "    \"\"\"\n",
    "    Generates a 3D plot of the regression result including the true underlying data.\n",
    "    The data points are indicated by circles, the prediction is shown as a surface\n",
    "    \"\"\"\n",
    "    fig = plt.figure(figsize=(8, 8))\n",
    "    plt.suptitle(f'{regression_model.ftype} Features')\n",
    "    ax = fig.add_subplot(111, projection = '3d')\n",
    "    ax.scatter(X[:, 0], X[:, 1], y, marker = 'o')\n",
    "    \n",
    "    x_min = X.min(0)\n",
    "    x_max = X.max(0)\n",
    "\n",
    "    x0_grid, x1_grid = np.mgrid[x_min[0]:x_max[0]:.3, x_min[1]:x_max[1]:.3]\n",
    "\n",
    "    x_dim_0, x_dim_1 = np.shape(x0_grid)\n",
    "    x_size = np.size(x0_grid)\n",
    "\n",
    "    x0_hat = x0_grid.flatten()\n",
    "    x1_hat = x1_grid.flatten()\n",
    "    x0_hat = x0_hat.reshape((np.size(x0_hat), 1))\n",
    "    x1_hat = x1_hat.reshape((np.size(x1_hat), 1))\n",
    "    x_hat = np.append(x0_hat, x1_hat, 1)\n",
    "    x_hat_fv = make_features(x_hat, regression_model.ftype)\n",
    "    y_hat = x_hat_fv.dot(regression_model.beta)\n",
    "    y_grid = y_hat.reshape((x_dim_0, x_dim_1))\n",
    "    ax.plot_wireframe(x0_grid, x1_grid, y_grid)\n",
    "    ax.auto_scale_xyz([x_min[0], x_max[0]], [x_min[1], x_max[1]], [y.min(), y.max()])\n",
    "    ax.set_xlabel('$x_1$')\n",
    "    ax.set_ylabel('$x_2$')\n",
    "    ax.set_zlabel('$y$')\n",
    "    \n",
    "# Implement your solution here."
   ]
  },
  {
   "cell_type": "markdown",
   "id": "figured-stylus",
   "metadata": {},
   "source": [
    "6) *(5 points)* Evaluate the quadratic dataset `(X_quad, y_quad)` for different values of `lambda_`. Report the MSE on the full data set when trained on the partial dataset `(X_quad_train, y_quad_train)`. Repeat this for different Ridge regularization parameters `lambda_` and generate a nice plot of the MSE for various `lambda_`. Plot the values of `lambda_` on the x-axis on a logarithmical scale and the error on the y-axis. print the minimal `lambda_`.\n",
    "\n",
    "Plot the surface and data points of the best `lambda_` value using the function `plot_data_and_model`."
   ]
  },
  {
   "cell_type": "code",
   "execution_count": 7,
   "id": "present-great",
   "metadata": {},
   "outputs": [],
   "source": [
    "# Implement your solution here."
   ]
  },
  {
   "cell_type": "markdown",
   "id": "rapid-avatar",
   "metadata": {},
   "source": [
    "7) *(5 points)* Evaluate the noisy dataset `(X_noise, y_noise)` for different values of `lambda_`. Report the MSE on the full data set when trained on the partial dataset `(X_noise_train, y_noise_train)`. Repeat this for different Ridge regularization parameters `lambda_` and generate a nice plot of the MSE for various `lambda_`. Plot the values of `lambda_` on the x-axis on a logarithmical scale and the error on the y-axis.\n",
    "\n",
    "Plot the surface and data points of the best `lambda_` value using the function `plot_data_and_model`."
   ]
  },
  {
   "cell_type": "code",
   "execution_count": 8,
   "id": "functioning-cause",
   "metadata": {},
   "outputs": [],
   "source": [
    "# Implement your solution here."
   ]
  },
  {
   "cell_type": "markdown",
   "id": "ranging-balloon",
   "metadata": {},
   "source": [
    "## Task 3 Evaluation (20 points)"
   ]
  },
  {
   "cell_type": "markdown",
   "id": "continuous-pattern",
   "metadata": {},
   "source": [
    "1) *(5 points)* What was the best choice for regularization term `lambda_` in the models above? Explain the observation from the previous task? If `lambda_` is set to zero $\\hat{\\beta}$ is not regularized, when would $\\lambda = 0$ be a good choice?"
   ]
  },
  {
   "cell_type": "markdown",
   "id": "adapted-bhutan",
   "metadata": {},
   "source": [
    "==> *Briefly explain the observation from the previous task.* (double klick here to edit)"
   ]
  },
  {
   "cell_type": "markdown",
   "id": "expanded-school",
   "metadata": {},
   "source": [
    "**For all students other than B.Sc. Data Science:** "
   ]
  },
  {
   "cell_type": "markdown",
   "id": "greater-wright",
   "metadata": {},
   "source": [
    "2) *(15 points)* Implement the function `cross_validation` for `k_fold = 10` to evaluate the prediction error of your model. Report the mean squared error from cross-validation. Repeat this for different Ridge regularization parameters `lambda_` and generate a nice bar plot of the MSE for various `lambda_`. Plot the values of `lambda_` on the x-axis on a logarithmical scale and the error on the y-axis. "
   ]
  },
  {
   "cell_type": "code",
   "execution_count": 9,
   "id": "refined-satisfaction",
   "metadata": {},
   "outputs": [],
   "source": [
    "def cross_validation(regression_model, X, y, k_fold = 10):\n",
    "    \"\"\"\n",
    "    partition data X in k_fold equal sized subsets D = {D_1, ..., D_{k_fold}}, \n",
    "        fit the model on k_fold-1 subsets (D\\D_i), \n",
    "        compute MSE on the evaluatin set (D_i),\n",
    "        return the mean MSE over all subsets D\n",
    "    \"\"\"\n",
    "    return None"
   ]
  },
  {
   "cell_type": "code",
   "execution_count": null,
   "id": "fundamental-return",
   "metadata": {},
   "outputs": [],
   "source": []
  }
 ],
 "metadata": {
  "kernelspec": {
   "name": "python392jvsc74a57bd047ea20cc5e615e85b5cc8db5156feca113b00d1aaa4aa4151ffe418d9ab1331a",
   "display_name": "Python 3.9.2 64-bit"
  },
  "language_info": {
   "codemirror_mode": {
    "name": "ipython",
    "version": 3
   },
   "file_extension": ".py",
   "mimetype": "text/x-python",
   "name": "python",
   "nbconvert_exporter": "python",
   "pygments_lexer": "ipython3",
   "version": "3.9.2"
  },
  "metadata": {
   "interpreter": {
    "hash": "47ea20cc5e615e85b5cc8db5156feca113b00d1aaa4aa4151ffe418d9ab1331a"
   }
  }
 },
 "nbformat": 4,
 "nbformat_minor": 5
}