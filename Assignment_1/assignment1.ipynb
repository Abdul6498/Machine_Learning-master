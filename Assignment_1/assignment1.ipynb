{
 "cells": [
  {
   "cell_type": "markdown",
   "metadata": {},
   "source": [
    "# Assignment 1: k-nearest neighbors (100 points)\n",
    "\n",
    "Only use the already imported libraries `numpy` and `matplotlib.pyplot` for the assignment. Do not import any other library. "
   ]
  },
  {
   "cell_type": "markdown",
   "metadata": {},
   "source": [
    "==> *Write*\n",
    "* name: Abdul Rehman\n",
    "* *matr. nr.* 3440146\n",
    "* *study program* M.Sc. INFOTECH\n",
    "* *B.Sc./M.Sc.*\n",
    "\n",
    "*of all assignment group participants here.* (double klick here to edit)*"
   ]
  },
  {
   "cell_type": "code",
   "execution_count": 193,
   "metadata": {},
   "outputs": [
    {
     "output_type": "stream",
     "name": "stdout",
     "text": [
      "<class 'numpy.ndarray'>\n<class 'numpy.ndarray'>\n"
     ]
    }
   ],
   "source": [
    "# Load required packages and dataset. Do not modify.\n",
    "import matplotlib.pyplot as plt\n",
    "import numpy as np\n",
    "\n",
    "\n",
    "def load_wine_dataset():\n",
    "    from sklearn import datasets\n",
    "    wine = datasets.load_wine()\n",
    "    X = wine.data\n",
    "    y = wine.target\n",
    "    return X, y\n",
    "    \n",
    "X, y = load_wine_dataset()\n",
    "print(type(X))\n",
    "print(type(y))"
   ]
  },
  {
   "cell_type": "markdown",
   "metadata": {},
   "source": [
    "## Task 1: Visualization and Preprocessing (25 points)\n",
    "\n",
    "1) *(5 Points)* Explain the content of the dataset in few words. What are the input features? What is the classification target? Check out: [http://archive.ics.uci.edu/ml/datasets/Wine).\n"
   ]
  },
  {
   "cell_type": "markdown",
   "metadata": {},
   "source": [
    "==> *Write your response here.* (double klick here to edit)\n",
    "The dataset contains different types of wines grown in the same region of ITALY. However they derived from three  different cultivars. Its clear from the description that we have three diferent target categories or classes.\n",
    "There are 13 different input features for each class on which we decide each class after the training of data. Actually these feature belongs to certain chemicals and we also call it dimensions. \n",
    "These 13 features are following. \n",
    "\n",
    "    1) Alcohol\n",
    "\t2) Malic acid\n",
    "\t3) Ash\n",
    "\t4) Alcalinity of ash  \n",
    "\t5) Magnesium\n",
    "\t6) Total phenols\n",
    "\t7) Flavanoids\n",
    "\t8) Nonflavanoid phenols\n",
    "\t9) Proanthocyanins\n",
    "\t10)Color intensity\n",
    "\t11)Hue\n",
    "\t12)OD280/OD315 of diluted wines\n",
    "\t13)Proline"
   ]
  },
  {
   "cell_type": "markdown",
   "metadata": {},
   "source": [
    "2) *(5 Points)* Compute and print the following statistics about the dataset:\n",
    "  - Number of samples\n",
    "  - Number of samples per class\n",
    "  - Mean and standard deviation for each input feature\n"
   ]
  },
  {
   "cell_type": "code",
   "execution_count": 96,
   "metadata": {},
   "outputs": [
    {
     "output_type": "stream",
     "name": "stdout",
     "text": [
      "Number of Samples are: 178\nNumber of Samples in Class 0: 59\nNumber of Samples in Class 1: 71\nNumber of Samples in Class 2: 48\nFeature Name: alcohol; Mean: 13.001 and standard deviation: 0.810\nFeature Name: malic acid; Mean: 2.336 and standard deviation: 1.114\nFeature Name: ash; Mean: 2.367 and standard deviation: 0.274\nFeature Name: ash alcalinity; Mean: 19.495 and standard deviation: 3.330\nFeature Name: magnesium; Mean: 99.742 and standard deviation: 14.242\nFeature Name: total phenols; Mean: 2.295 and standard deviation: 0.624\nFeature Name: flavanoids; Mean: 2.029 and standard deviation: 0.996\nFeature Name: nonflavanoid phenols; Mean: 0.362 and standard deviation: 0.124\nFeature Name: proanthocyanins; Mean: 1.591 and standard deviation: 0.571\nFeature Name: color intensity; Mean: 5.058 and standard deviation: 2.312\nFeature Name: hue; Mean: 0.957 and standard deviation: 0.228\nFeature Name: OD280/OD315 of diluted wines; Mean: 2.612 and standard deviation: 0.708\nFeature Name: proline; Mean: 746.893 and standard deviation: 314.022\n"
     ]
    }
   ],
   "source": [
    "# Implement your solution here.\n",
    "# Number of samples\n",
    "num_sample = X.shape[0]\n",
    "print(\"Number of Samples are: {}\".format(num_sample))\n",
    "\n",
    "# Number of samples per Class\n",
    "sample_C0, sample_C1, sample_C2 = np.bincount(y)\n",
    "print(\"Number of Samples in Class 0: {}\".format(sample_C0))\n",
    "print(\"Number of Samples in Class 1: {}\".format(sample_C1))\n",
    "print(\"Number of Samples in Class 2: {}\".format(sample_C2))\n",
    "\n",
    "# Mean and Mean and standard deviation for each input feature\n",
    "mean = np.mean(X, axis=0)\n",
    "std_dev = np.std(X, axis=0)\n",
    "num_features = X.shape[1]\n",
    "features_name = [\"alcohol\", \"malic acid\", \"ash\", \"ash alcalinity\", \"magnesium\", \"total phenols\", \"flavanoids\", \"nonflavanoid phenols\", \"proanthocyanins\", \"color intensity\", \"hue\", \"OD280/OD315 of diluted wines\", \"proline\"]\n",
    "\n",
    "for i in range(num_features):\n",
    "    print(\"Feature Name: {}; Mean: {:.3f} and standard deviation: {:.3f}\".format(features_name[i], mean[i], std_dev[i]))\n"
   ]
  },
  {
   "cell_type": "markdown",
   "metadata": {},
   "source": [
    "3) *(5 Points)* Visualize the variables *alcohol* and *magnesium* in a scatter plot (*alcohol* on the x-axis, *magnesium* on the y-axis). Color each point of the plot according to its class."
   ]
  },
  {
   "cell_type": "code",
   "execution_count": 78,
   "metadata": {},
   "outputs": [
    {
     "output_type": "stream",
     "name": "stderr",
     "text": [
      "*c* argument looks like a single numeric RGB or RGBA sequence, which should be avoided as value-mapping will have precedence in case its length matches with *x* & *y*.  Please use the *color* keyword-argument or provide a 2-D array with a single row if you intend to specify the same RGB or RGBA value for all points.\n"
     ]
    },
    {
     "output_type": "display_data",
     "data": {
      "text/plain": "<Figure size 432x288 with 1 Axes>",
      "image/svg+xml": "<?xml version=\"1.0\" encoding=\"utf-8\" standalone=\"no\"?>\r\n<!DOCTYPE svg PUBLIC \"-//W3C//DTD SVG 1.1//EN\"\r\n  \"http://www.w3.org/Graphics/SVG/1.1/DTD/svg11.dtd\">\r\n<!-- Created with matplotlib (https://matplotlib.org/) -->\r\n<svg height=\"277.314375pt\" version=\"1.1\" viewBox=\"0 0 398.496524 277.314375\" width=\"398.496524pt\" xmlns=\"http://www.w3.org/2000/svg\" xmlns:xlink=\"http://www.w3.org/1999/xlink\">\r\n <metadata>\r\n  <rdf:RDF xmlns:cc=\"http://creativecommons.org/ns#\" xmlns:dc=\"http://purl.org/dc/elements/1.1/\" xmlns:rdf=\"http://www.w3.org/1999/02/22-rdf-syntax-ns#\">\r\n   <cc:Work>\r\n    <dc:type rdf:resource=\"http://purl.org/dc/dcmitype/StillImage\"/>\r\n    <dc:date>2021-05-01T01:09:16.433501</dc:date>\r\n    <dc:format>image/svg+xml</dc:format>\r\n    <dc:creator>\r\n     <cc:Agent>\r\n      <dc:title>Matplotlib v3.3.2, https://matplotlib.org/</dc:title>\r\n     </cc:Agent>\r\n    </dc:creator>\r\n   </cc:Work>\r\n  </rdf:RDF>\r\n </metadata>\r\n <defs>\r\n  <style type=\"text/css\">*{stroke-linecap:butt;stroke-linejoin:round;}</style>\r\n </defs>\r\n <g id=\"figure_1\">\r\n  <g id=\"patch_1\">\r\n   <path d=\"M 0 277.314375 \r\nL 398.496524 277.314375 \r\nL 398.496524 0 \r\nL 0 0 \r\nz\r\n\" style=\"fill:none;\"/>\r\n  </g>\r\n  <g id=\"axes_1\">\r\n   <g id=\"patch_2\">\r\n    <path d=\"M 46.965625 239.758125 \r\nL 381.765625 239.758125 \r\nL 381.765625 22.318125 \r\nL 46.965625 22.318125 \r\nz\r\n\" style=\"fill:#ffffff;\"/>\r\n   </g>\r\n   <g id=\"PathCollection_1\">\r\n    <defs>\r\n     <path d=\"M 0 2.738613 \r\nC 0.726289 2.738613 1.422928 2.450055 1.936492 1.936492 \r\nC 2.450055 1.422928 2.738613 0.726289 2.738613 0 \r\nC 2.738613 -0.726289 2.450055 -1.422928 1.936492 -1.936492 \r\nC 1.422928 -2.450055 0.726289 -2.738613 0 -2.738613 \r\nC -0.726289 -2.738613 -1.422928 -2.450055 -1.936492 -1.936492 \r\nC -2.450055 -1.422928 -2.738613 -0.726289 -2.738613 0 \r\nC -2.738613 0.726289 -2.450055 1.422928 -1.936492 1.936492 \r\nC -1.422928 2.450055 -0.726289 2.738613 0 2.738613 \r\nz\r\n\" id=\"m99cf44aedb\" style=\"stroke:#ff00ff;stroke-opacity:0.5;\"/>\r\n    </defs>\r\n    <g clip-path=\"url(#pfc002cdf9a)\">\r\n     <use style=\"fill:#ff00ff;fill-opacity:0.5;stroke:#ff00ff;stroke-opacity:0.5;\" x=\"318.490027\" xlink:href=\"#m99cf44aedb\" y=\"107.403342\"/>\r\n     <use style=\"fill:#ff00ff;fill-opacity:0.5;stroke:#ff00ff;stroke-opacity:0.5;\" x=\"235.991462\" xlink:href=\"#m99cf44aedb\" y=\"165.415991\"/>\r\n     <use style=\"fill:#ff00ff;fill-opacity:0.5;stroke:#ff00ff;stroke-opacity:0.5;\" x=\"232.787635\" xlink:href=\"#m99cf44aedb\" y=\"163.267374\"/>\r\n     <use style=\"fill:#ff00ff;fill-opacity:0.5;stroke:#ff00ff;stroke-opacity:0.5;\" x=\"329.703424\" xlink:href=\"#m99cf44aedb\" y=\"137.483975\"/>\r\n     <use style=\"fill:#ff00ff;fill-opacity:0.5;stroke:#ff00ff;stroke-opacity:0.5;\" x=\"239.19529\" xlink:href=\"#m99cf44aedb\" y=\"126.740892\"/>\r\n     <use style=\"fill:#ff00ff;fill-opacity:0.5;stroke:#ff00ff;stroke-opacity:0.5;\" x=\"316.087156\" xlink:href=\"#m99cf44aedb\" y=\"139.632591\"/>\r\n     <use style=\"fill:#ff00ff;fill-opacity:0.5;stroke:#ff00ff;stroke-opacity:0.5;\" x=\"331.305338\" xlink:href=\"#m99cf44aedb\" y=\"174.010457\"/>\r\n     <use style=\"fill:#ff00ff;fill-opacity:0.5;stroke:#ff00ff;stroke-opacity:0.5;\" x=\"304.873759\" xlink:href=\"#m99cf44aedb\" y=\"120.295042\"/>\r\n     <use style=\"fill:#ff00ff;fill-opacity:0.5;stroke:#ff00ff;stroke-opacity:0.5;\" x=\"366.547443\" xlink:href=\"#m99cf44aedb\" y=\"171.86184\"/>\r\n     <use style=\"fill:#ff00ff;fill-opacity:0.5;stroke:#ff00ff;stroke-opacity:0.5;\" x=\"288.85462\" xlink:href=\"#m99cf44aedb\" y=\"169.713224\"/>\r\n     <use style=\"fill:#ff00ff;fill-opacity:0.5;stroke:#ff00ff;stroke-opacity:0.5;\" x=\"308.077587\" xlink:href=\"#m99cf44aedb\" y=\"154.672908\"/>\r\n     <use style=\"fill:#ff00ff;fill-opacity:0.5;stroke:#ff00ff;stroke-opacity:0.5;\" x=\"309.679501\" xlink:href=\"#m99cf44aedb\" y=\"176.159074\"/>\r\n     <use style=\"fill:#ff00ff;fill-opacity:0.5;stroke:#ff00ff;stroke-opacity:0.5;\" x=\"280.044094\" xlink:href=\"#m99cf44aedb\" y=\"189.050773\"/>\r\n     <use style=\"fill:#ff00ff;fill-opacity:0.5;stroke:#ff00ff;stroke-opacity:0.5;\" x=\"360.139788\" xlink:href=\"#m99cf44aedb\" y=\"184.75354\"/>\r\n     <use style=\"fill:#ff00ff;fill-opacity:0.5;stroke:#ff00ff;stroke-opacity:0.5;\" x=\"330.504381\" xlink:href=\"#m99cf44aedb\" y=\"161.118757\"/>\r\n     <use style=\"fill:#ff00ff;fill-opacity:0.5;stroke:#ff00ff;stroke-opacity:0.5;\" x=\"270.432611\" xlink:href=\"#m99cf44aedb\" y=\"139.632591\"/>\r\n     <use style=\"fill:#ff00ff;fill-opacity:0.5;stroke:#ff00ff;stroke-opacity:0.5;\" x=\"324.096725\" xlink:href=\"#m99cf44aedb\" y=\"122.443659\"/>\r\n     <use style=\"fill:#ff00ff;fill-opacity:0.5;stroke:#ff00ff;stroke-opacity:0.5;\" x=\"286.451749\" xlink:href=\"#m99cf44aedb\" y=\"133.186742\"/>\r\n     <use style=\"fill:#ff00ff;fill-opacity:0.5;stroke:#ff00ff;stroke-opacity:0.5;\" x=\"315.286199\" xlink:href=\"#m99cf44aedb\" y=\"148.227058\"/>\r\n     <use style=\"fill:#ff00ff;fill-opacity:0.5;stroke:#ff00ff;stroke-opacity:0.5;\" x=\"271.233568\" xlink:href=\"#m99cf44aedb\" y=\"131.038125\"/>\r\n     <use style=\"fill:#ff00ff;fill-opacity:0.5;stroke:#ff00ff;stroke-opacity:0.5;\" x=\"304.873759\" xlink:href=\"#m99cf44aedb\" y=\"109.551959\"/>\r\n     <use style=\"fill:#ff00ff;fill-opacity:0.5;stroke:#ff00ff;stroke-opacity:0.5;\" x=\"214.365625\" xlink:href=\"#m99cf44aedb\" y=\"161.118757\"/>\r\n     <use style=\"fill:#ff00ff;fill-opacity:0.5;stroke:#ff00ff;stroke-opacity:0.5;\" x=\"276.840266\" xlink:href=\"#m99cf44aedb\" y=\"163.267374\"/>\r\n     <use style=\"fill:#ff00ff;fill-opacity:0.5;stroke:#ff00ff;stroke-opacity:0.5;\" x=\"207.957969\" xlink:href=\"#m99cf44aedb\" y=\"176.159074\"/>\r\n     <use style=\"fill:#ff00ff;fill-opacity:0.5;stroke:#ff00ff;stroke-opacity:0.5;\" x=\"260.02017\" xlink:href=\"#m99cf44aedb\" y=\"174.010457\"/>\r\n     <use style=\"fill:#ff00ff;fill-opacity:0.5;stroke:#ff00ff;stroke-opacity:0.5;\" x=\"223.977108\" xlink:href=\"#m99cf44aedb\" y=\"113.849192\"/>\r\n     <use style=\"fill:#ff00ff;fill-opacity:0.5;stroke:#ff00ff;stroke-opacity:0.5;\" x=\"251.209644\" xlink:href=\"#m99cf44aedb\" y=\"180.456307\"/>\r\n     <use style=\"fill:#ff00ff;fill-opacity:0.5;stroke:#ff00ff;stroke-opacity:0.5;\" x=\"244.001032\" xlink:href=\"#m99cf44aedb\" y=\"178.30769\"/>\r\n     <use style=\"fill:#ff00ff;fill-opacity:0.5;stroke:#ff00ff;stroke-opacity:0.5;\" x=\"289.655577\" xlink:href=\"#m99cf44aedb\" y=\"150.375674\"/>\r\n     <use style=\"fill:#ff00ff;fill-opacity:0.5;stroke:#ff00ff;stroke-opacity:0.5;\" x=\"301.669931\" xlink:href=\"#m99cf44aedb\" y=\"174.010457\"/>\r\n     <use style=\"fill:#ff00ff;fill-opacity:0.5;stroke:#ff00ff;stroke-opacity:0.5;\" x=\"278.44218\" xlink:href=\"#m99cf44aedb\" y=\"163.267374\"/>\r\n     <use style=\"fill:#ff00ff;fill-opacity:0.5;stroke:#ff00ff;stroke-opacity:0.5;\" x=\"266.427826\" xlink:href=\"#m99cf44aedb\" y=\"152.524291\"/>\r\n     <use style=\"fill:#ff00ff;fill-opacity:0.5;stroke:#ff00ff;stroke-opacity:0.5;\" x=\"274.437395\" xlink:href=\"#m99cf44aedb\" y=\"156.821524\"/>\r\n     <use style=\"fill:#ff00ff;fill-opacity:0.5;stroke:#ff00ff;stroke-opacity:0.5;\" x=\"280.845051\" xlink:href=\"#m99cf44aedb\" y=\"96.660259\"/>\r\n     <use style=\"fill:#ff00ff;fill-opacity:0.5;stroke:#ff00ff;stroke-opacity:0.5;\" x=\"260.821127\" xlink:href=\"#m99cf44aedb\" y=\"143.929825\"/>\r\n     <use style=\"fill:#ff00ff;fill-opacity:0.5;stroke:#ff00ff;stroke-opacity:0.5;\" x=\"258.418257\" xlink:href=\"#m99cf44aedb\" y=\"165.415991\"/>\r\n     <use style=\"fill:#ff00ff;fill-opacity:0.5;stroke:#ff00ff;stroke-opacity:0.5;\" x=\"242.399118\" xlink:href=\"#m99cf44aedb\" y=\"143.929825\"/>\r\n     <use style=\"fill:#ff00ff;fill-opacity:0.5;stroke:#ff00ff;stroke-opacity:0.5;\" x=\"223.977108\" xlink:href=\"#m99cf44aedb\" y=\"169.713224\"/>\r\n     <use style=\"fill:#ff00ff;fill-opacity:0.5;stroke:#ff00ff;stroke-opacity:0.5;\" x=\"225.579022\" xlink:href=\"#m99cf44aedb\" y=\"169.713224\"/>\r\n     <use style=\"fill:#ff00ff;fill-opacity:0.5;stroke:#ff00ff;stroke-opacity:0.5;\" x=\"317.68907\" xlink:href=\"#m99cf44aedb\" y=\"105.254726\"/>\r\n     <use style=\"fill:#ff00ff;fill-opacity:0.5;stroke:#ff00ff;stroke-opacity:0.5;\" x=\"264.825912\" xlink:href=\"#m99cf44aedb\" y=\"128.889508\"/>\r\n     <use style=\"fill:#ff00ff;fill-opacity:0.5;stroke:#ff00ff;stroke-opacity:0.5;\" x=\"252.811558\" xlink:href=\"#m99cf44aedb\" y=\"186.902157\"/>\r\n     <use style=\"fill:#ff00ff;fill-opacity:0.5;stroke:#ff00ff;stroke-opacity:0.5;\" x=\"290.456534\" xlink:href=\"#m99cf44aedb\" y=\"163.267374\"/>\r\n     <use style=\"fill:#ff00ff;fill-opacity:0.5;stroke:#ff00ff;stroke-opacity:0.5;\" x=\"239.19529\" xlink:href=\"#m99cf44aedb\" y=\"158.970141\"/>\r\n     <use style=\"fill:#ff00ff;fill-opacity:0.5;stroke:#ff00ff;stroke-opacity:0.5;\" x=\"223.977108\" xlink:href=\"#m99cf44aedb\" y=\"150.375674\"/>\r\n     <use style=\"fill:#ff00ff;fill-opacity:0.5;stroke:#ff00ff;stroke-opacity:0.5;\" x=\"316.888113\" xlink:href=\"#m99cf44aedb\" y=\"141.781208\"/>\r\n     <use style=\"fill:#ff00ff;fill-opacity:0.5;stroke:#ff00ff;stroke-opacity:0.5;\" x=\"330.504381\" xlink:href=\"#m99cf44aedb\" y=\"161.118757\"/>\r\n     <use style=\"fill:#ff00ff;fill-opacity:0.5;stroke:#ff00ff;stroke-opacity:0.5;\" x=\"292.058448\" xlink:href=\"#m99cf44aedb\" y=\"163.267374\"/>\r\n     <use style=\"fill:#ff00ff;fill-opacity:0.5;stroke:#ff00ff;stroke-opacity:0.5;\" x=\"308.077587\" xlink:href=\"#m99cf44aedb\" y=\"158.970141\"/>\r\n     <use style=\"fill:#ff00ff;fill-opacity:0.5;stroke:#ff00ff;stroke-opacity:0.5;\" x=\"295.262276\" xlink:href=\"#m99cf44aedb\" y=\"148.227058\"/>\r\n     <use style=\"fill:#ff00ff;fill-opacity:0.5;stroke:#ff00ff;stroke-opacity:0.5;\" x=\"223.977108\" xlink:href=\"#m99cf44aedb\" y=\"182.604923\"/>\r\n     <use style=\"fill:#ff00ff;fill-opacity:0.5;stroke:#ff00ff;stroke-opacity:0.5;\" x=\"286.451749\" xlink:href=\"#m99cf44aedb\" y=\"178.30769\"/>\r\n     <use style=\"fill:#ff00ff;fill-opacity:0.5;stroke:#ff00ff;stroke-opacity:0.5;\" x=\"285.650792\" xlink:href=\"#m99cf44aedb\" y=\"141.781208\"/>\r\n     <use style=\"fill:#ff00ff;fill-opacity:0.5;stroke:#ff00ff;stroke-opacity:0.5;\" x=\"281.646008\" xlink:href=\"#m99cf44aedb\" y=\"133.186742\"/>\r\n     <use style=\"fill:#ff00ff;fill-opacity:0.5;stroke:#ff00ff;stroke-opacity:0.5;\" x=\"279.243137\" xlink:href=\"#m99cf44aedb\" y=\"126.740892\"/>\r\n     <use style=\"fill:#ff00ff;fill-opacity:0.5;stroke:#ff00ff;stroke-opacity:0.5;\" x=\"264.825912\" xlink:href=\"#m99cf44aedb\" y=\"131.038125\"/>\r\n     <use style=\"fill:#ff00ff;fill-opacity:0.5;stroke:#ff00ff;stroke-opacity:0.5;\" x=\"317.68907\" xlink:href=\"#m99cf44aedb\" y=\"126.740892\"/>\r\n     <use style=\"fill:#ff00ff;fill-opacity:0.5;stroke:#ff00ff;stroke-opacity:0.5;\" x=\"243.200075\" xlink:href=\"#m99cf44aedb\" y=\"161.118757\"/>\r\n     <use style=\"fill:#ff00ff;fill-opacity:0.5;stroke:#ff00ff;stroke-opacity:0.5;\" x=\"277.641223\" xlink:href=\"#m99cf44aedb\" y=\"148.227058\"/>\r\n     <use style=\"fill:#ff00ff;fill-opacity:0.5;stroke:#ff00ff;stroke-opacity:0.5;\" x=\"169.512036\" xlink:href=\"#m99cf44aedb\" y=\"191.19939\"/>\r\n     <use style=\"fill:#ff00ff;fill-opacity:0.5;stroke:#ff00ff;stroke-opacity:0.5;\" x=\"166.308209\" xlink:href=\"#m99cf44aedb\" y=\"163.267374\"/>\r\n     <use style=\"fill:#ff00ff;fill-opacity:0.5;stroke:#ff00ff;stroke-opacity:0.5;\" x=\"191.137874\" xlink:href=\"#m99cf44aedb\" y=\"165.415991\"/>\r\n     <use style=\"fill:#ff00ff;fill-opacity:0.5;stroke:#ff00ff;stroke-opacity:0.5;\" x=\"273.636438\" xlink:href=\"#m99cf44aedb\" y=\"178.30769\"/>\r\n     <use style=\"fill:#ff00ff;fill-opacity:0.5;stroke:#ff00ff;stroke-opacity:0.5;\" x=\"169.512036\" xlink:href=\"#m99cf44aedb\" y=\"193.348006\"/>\r\n     <use style=\"fill:#ff00ff;fill-opacity:0.5;stroke:#ff00ff;stroke-opacity:0.5;\" x=\"153.492898\" xlink:href=\"#m99cf44aedb\" y=\"156.821524\"/>\r\n     <use style=\"fill:#ff00ff;fill-opacity:0.5;stroke:#ff00ff;stroke-opacity:0.5;\" x=\"169.512036\" xlink:href=\"#m99cf44aedb\" y=\"169.713224\"/>\r\n     <use style=\"fill:#ff00ff;fill-opacity:0.5;stroke:#ff00ff;stroke-opacity:0.5;\" x=\"228.78285\" xlink:href=\"#m99cf44aedb\" y=\"212.685556\"/>\r\n     <use style=\"fill:#ff00ff;fill-opacity:0.5;stroke:#ff00ff;stroke-opacity:0.5;\" x=\"169.512036\" xlink:href=\"#m99cf44aedb\" y=\"212.685556\"/>\r\n     <use style=\"fill:#ff00ff;fill-opacity:0.5;stroke:#ff00ff;stroke-opacity:0.5;\" x=\"247.204859\" xlink:href=\"#m99cf44aedb\" y=\"143.929825\"/>\r\n     <use style=\"fill:#ff00ff;fill-opacity:0.5;stroke:#ff00ff;stroke-opacity:0.5;\" x=\"156.696725\" xlink:href=\"#m99cf44aedb\" y=\"55.836544\"/>\r\n     <use style=\"fill:#ff00ff;fill-opacity:0.5;stroke:#ff00ff;stroke-opacity:0.5;\" x=\"163.104381\" xlink:href=\"#m99cf44aedb\" y=\"158.970141\"/>\r\n     <use style=\"fill:#ff00ff;fill-opacity:0.5;stroke:#ff00ff;stroke-opacity:0.5;\" x=\"288.85462\" xlink:href=\"#m99cf44aedb\" y=\"195.496623\"/>\r\n     <use style=\"fill:#ff00ff;fill-opacity:0.5;stroke:#ff00ff;stroke-opacity:0.5;\" x=\"259.219214\" xlink:href=\"#m99cf44aedb\" y=\"193.348006\"/>\r\n     <use style=\"fill:#ff00ff;fill-opacity:0.5;stroke:#ff00ff;stroke-opacity:0.5;\" x=\"219.171367\" xlink:href=\"#m99cf44aedb\" y=\"81.619943\"/>\r\n     <use style=\"fill:#ff00ff;fill-opacity:0.5;stroke:#ff00ff;stroke-opacity:0.5;\" x=\"136.672802\" xlink:href=\"#m99cf44aedb\" y=\"163.267374\"/>\r\n     <use style=\"fill:#ff00ff;fill-opacity:0.5;stroke:#ff00ff;stroke-opacity:0.5;\" x=\"112.644094\" xlink:href=\"#m99cf44aedb\" y=\"171.86184\"/>\r\n     <use style=\"fill:#ff00ff;fill-opacity:0.5;stroke:#ff00ff;stroke-opacity:0.5;\" x=\"222.375194\" xlink:href=\"#m99cf44aedb\" y=\"195.496623\"/>\r\n     <use style=\"fill:#ff00ff;fill-opacity:0.5;stroke:#ff00ff;stroke-opacity:0.5;\" x=\"127.061319\" xlink:href=\"#m99cf44aedb\" y=\"139.632591\"/>\r\n     <use style=\"fill:#ff00ff;fill-opacity:0.5;stroke:#ff00ff;stroke-opacity:0.5;\" x=\"166.308209\" xlink:href=\"#m99cf44aedb\" y=\"88.065793\"/>\r\n     <use style=\"fill:#ff00ff;fill-opacity:0.5;stroke:#ff00ff;stroke-opacity:0.5;\" x=\"195.943615\" xlink:href=\"#m99cf44aedb\" y=\"163.267374\"/>\r\n     <use style=\"fill:#ff00ff;fill-opacity:0.5;stroke:#ff00ff;stroke-opacity:0.5;\" x=\"139.87663\" xlink:href=\"#m99cf44aedb\" y=\"195.496623\"/>\r\n     <use style=\"fill:#ff00ff;fill-opacity:0.5;stroke:#ff00ff;stroke-opacity:0.5;\" x=\"197.545529\" xlink:href=\"#m99cf44aedb\" y=\"195.496623\"/>\r\n     <use style=\"fill:#ff00ff;fill-opacity:0.5;stroke:#ff00ff;stroke-opacity:0.5;\" x=\"146.284285\" xlink:href=\"#m99cf44aedb\" y=\"212.685556\"/>\r\n     <use style=\"fill:#ff00ff;fill-opacity:0.5;stroke:#ff00ff;stroke-opacity:0.5;\" x=\"223.977108\" xlink:href=\"#m99cf44aedb\" y=\"197.64524\"/>\r\n     <use style=\"fill:#ff00ff;fill-opacity:0.5;stroke:#ff00ff;stroke-opacity:0.5;\" x=\"127.061319\" xlink:href=\"#m99cf44aedb\" y=\"178.30769\"/>\r\n     <use style=\"fill:#ff00ff;fill-opacity:0.5;stroke:#ff00ff;stroke-opacity:0.5;\" x=\"193.540745\" xlink:href=\"#m99cf44aedb\" y=\"167.564607\"/>\r\n     <use style=\"fill:#ff00ff;fill-opacity:0.5;stroke:#ff00ff;stroke-opacity:0.5;\" x=\"152.691941\" xlink:href=\"#m99cf44aedb\" y=\"186.902157\"/>\r\n     <use style=\"fill:#ff00ff;fill-opacity:0.5;stroke:#ff00ff;stroke-opacity:0.5;\" x=\"111.843137\" xlink:href=\"#m99cf44aedb\" y=\"191.19939\"/>\r\n     <use style=\"fill:#ff00ff;fill-opacity:0.5;stroke:#ff00ff;stroke-opacity:0.5;\" x=\"111.04218\" xlink:href=\"#m99cf44aedb\" y=\"199.793856\"/>\r\n     <use style=\"fill:#ff00ff;fill-opacity:0.5;stroke:#ff00ff;stroke-opacity:0.5;\" x=\"146.284285\" xlink:href=\"#m99cf44aedb\" y=\"229.874489\"/>\r\n     <use style=\"fill:#ff00ff;fill-opacity:0.5;stroke:#ff00ff;stroke-opacity:0.5;\" x=\"146.284285\" xlink:href=\"#m99cf44aedb\" y=\"206.239706\"/>\r\n     <use style=\"fill:#ff00ff;fill-opacity:0.5;stroke:#ff00ff;stroke-opacity:0.5;\" x=\"139.87663\" xlink:href=\"#m99cf44aedb\" y=\"195.496623\"/>\r\n     <use style=\"fill:#ff00ff;fill-opacity:0.5;stroke:#ff00ff;stroke-opacity:0.5;\" x=\"195.142658\" xlink:href=\"#m99cf44aedb\" y=\"208.388323\"/>\r\n     <use style=\"fill:#ff00ff;fill-opacity:0.5;stroke:#ff00ff;stroke-opacity:0.5;\" x=\"163.104381\" xlink:href=\"#m99cf44aedb\" y=\"191.19939\"/>\r\n     <use style=\"fill:#ff00ff;fill-opacity:0.5;stroke:#ff00ff;stroke-opacity:0.5;\" x=\"109.440266\" xlink:href=\"#m99cf44aedb\" y=\"169.713224\"/>\r\n     <use style=\"fill:#ff00ff;fill-opacity:0.5;stroke:#ff00ff;stroke-opacity:0.5;\" x=\"177.521606\" xlink:href=\"#m99cf44aedb\" y=\"32.201761\"/>\r\n     <use style=\"fill:#ff00ff;fill-opacity:0.5;stroke:#ff00ff;stroke-opacity:0.5;\" x=\"124.658448\" xlink:href=\"#m99cf44aedb\" y=\"92.363026\"/>\r\n     <use style=\"fill:#ff00ff;fill-opacity:0.5;stroke:#ff00ff;stroke-opacity:0.5;\" x=\"163.104381\" xlink:href=\"#m99cf44aedb\" y=\"197.64524\"/>\r\n     <use style=\"fill:#ff00ff;fill-opacity:0.5;stroke:#ff00ff;stroke-opacity:0.5;\" x=\"169.512036\" xlink:href=\"#m99cf44aedb\" y=\"191.19939\"/>\r\n     <use style=\"fill:#ff00ff;fill-opacity:0.5;stroke:#ff00ff;stroke-opacity:0.5;\" x=\"163.104381\" xlink:href=\"#m99cf44aedb\" y=\"191.19939\"/>\r\n     <use style=\"fill:#ff00ff;fill-opacity:0.5;stroke:#ff00ff;stroke-opacity:0.5;\" x=\"146.284285\" xlink:href=\"#m99cf44aedb\" y=\"171.86184\"/>\r\n     <use style=\"fill:#ff00ff;fill-opacity:0.5;stroke:#ff00ff;stroke-opacity:0.5;\" x=\"187.934046\" xlink:href=\"#m99cf44aedb\" y=\"191.19939\"/>\r\n     <use style=\"fill:#ff00ff;fill-opacity:0.5;stroke:#ff00ff;stroke-opacity:0.5;\" x=\"167.109166\" xlink:href=\"#m99cf44aedb\" y=\"169.713224\"/>\r\n     <use style=\"fill:#ff00ff;fill-opacity:0.5;stroke:#ff00ff;stroke-opacity:0.5;\" x=\"125.459405\" xlink:href=\"#m99cf44aedb\" y=\"195.496623\"/>\r\n     <use style=\"fill:#ff00ff;fill-opacity:0.5;stroke:#ff00ff;stroke-opacity:0.5;\" x=\"180.725434\" xlink:href=\"#m99cf44aedb\" y=\"197.64524\"/>\r\n     <use style=\"fill:#ff00ff;fill-opacity:0.5;stroke:#ff00ff;stroke-opacity:0.5;\" x=\"173.516821\" xlink:href=\"#m99cf44aedb\" y=\"186.902157\"/>\r\n     <use style=\"fill:#ff00ff;fill-opacity:0.5;stroke:#ff00ff;stroke-opacity:0.5;\" x=\"159.900553\" xlink:href=\"#m99cf44aedb\" y=\"208.388323\"/>\r\n     <use style=\"fill:#ff00ff;fill-opacity:0.5;stroke:#ff00ff;stroke-opacity:0.5;\" x=\"197.545529\" xlink:href=\"#m99cf44aedb\" y=\"199.793856\"/>\r\n     <use style=\"fill:#ff00ff;fill-opacity:0.5;stroke:#ff00ff;stroke-opacity:0.5;\" x=\"157.497682\" xlink:href=\"#m99cf44aedb\" y=\"182.604923\"/>\r\n     <use style=\"fill:#ff00ff;fill-opacity:0.5;stroke:#ff00ff;stroke-opacity:0.5;\" x=\"108.639309\" xlink:href=\"#m99cf44aedb\" y=\"178.30769\"/>\r\n     <use style=\"fill:#ff00ff;fill-opacity:0.5;stroke:#ff00ff;stroke-opacity:0.5;\" x=\"96.624955\" xlink:href=\"#m99cf44aedb\" y=\"150.375674\"/>\r\n     <use style=\"fill:#ff00ff;fill-opacity:0.5;stroke:#ff00ff;stroke-opacity:0.5;\" x=\"181.526391\" xlink:href=\"#m99cf44aedb\" y=\"191.19939\"/>\r\n     <use style=\"fill:#ff00ff;fill-opacity:0.5;stroke:#ff00ff;stroke-opacity:0.5;\" x=\"120.653663\" xlink:href=\"#m99cf44aedb\" y=\"158.970141\"/>\r\n     <use style=\"fill:#ff00ff;fill-opacity:0.5;stroke:#ff00ff;stroke-opacity:0.5;\" x=\"92.62017\" xlink:href=\"#m99cf44aedb\" y=\"191.19939\"/>\r\n     <use style=\"fill:#ff00ff;fill-opacity:0.5;stroke:#ff00ff;stroke-opacity:0.5;\" x=\"146.284285\" xlink:href=\"#m99cf44aedb\" y=\"199.793856\"/>\r\n     <use style=\"fill:#ff00ff;fill-opacity:0.5;stroke:#ff00ff;stroke-opacity:0.5;\" x=\"62.183807\" xlink:href=\"#m99cf44aedb\" y=\"197.64524\"/>\r\n     <use style=\"fill:#ff00ff;fill-opacity:0.5;stroke:#ff00ff;stroke-opacity:0.5;\" x=\"125.459405\" xlink:href=\"#m99cf44aedb\" y=\"195.496623\"/>\r\n     <use style=\"fill:#ff00ff;fill-opacity:0.5;stroke:#ff00ff;stroke-opacity:0.5;\" x=\"173.516821\" xlink:href=\"#m99cf44aedb\" y=\"148.227058\"/>\r\n     <use style=\"fill:#ff00ff;fill-opacity:0.5;stroke:#ff00ff;stroke-opacity:0.5;\" x=\"201.550314\" xlink:href=\"#m99cf44aedb\" y=\"208.388323\"/>\r\n     <use style=\"fill:#ff00ff;fill-opacity:0.5;stroke:#ff00ff;stroke-opacity:0.5;\" x=\"139.87663\" xlink:href=\"#m99cf44aedb\" y=\"193.348006\"/>\r\n     <use style=\"fill:#ff00ff;fill-opacity:0.5;stroke:#ff00ff;stroke-opacity:0.5;\" x=\"95.823998\" xlink:href=\"#m99cf44aedb\" y=\"174.010457\"/>\r\n     <use style=\"fill:#ff00ff;fill-opacity:0.5;stroke:#ff00ff;stroke-opacity:0.5;\" x=\"104.634525\" xlink:href=\"#m99cf44aedb\" y=\"124.592275\"/>\r\n     <use style=\"fill:#ff00ff;fill-opacity:0.5;stroke:#ff00ff;stroke-opacity:0.5;\" x=\"173.516821\" xlink:href=\"#m99cf44aedb\" y=\"161.118757\"/>\r\n     <use style=\"fill:#ff00ff;fill-opacity:0.5;stroke:#ff00ff;stroke-opacity:0.5;\" x=\"223.977108\" xlink:href=\"#m99cf44aedb\" y=\"195.496623\"/>\r\n     <use style=\"fill:#ff00ff;fill-opacity:0.5;stroke:#ff00ff;stroke-opacity:0.5;\" x=\"129.46419\" xlink:href=\"#m99cf44aedb\" y=\"204.091089\"/>\r\n     <use style=\"fill:#ff00ff;fill-opacity:0.5;stroke:#ff00ff;stroke-opacity:0.5;\" x=\"145.483328\" xlink:href=\"#m99cf44aedb\" y=\"197.64524\"/>\r\n     <use style=\"fill:#ff00ff;fill-opacity:0.5;stroke:#ff00ff;stroke-opacity:0.5;\" x=\"174.317778\" xlink:href=\"#m99cf44aedb\" y=\"195.496623\"/>\r\n     <use style=\"fill:#ff00ff;fill-opacity:0.5;stroke:#ff00ff;stroke-opacity:0.5;\" x=\"123.056534\" xlink:href=\"#m99cf44aedb\" y=\"182.604923\"/>\r\n     <use style=\"fill:#ff00ff;fill-opacity:0.5;stroke:#ff00ff;stroke-opacity:0.5;\" x=\"169.512036\" xlink:href=\"#m99cf44aedb\" y=\"191.19939\"/>\r\n     <use style=\"fill:#ff00ff;fill-opacity:0.5;stroke:#ff00ff;stroke-opacity:0.5;\" x=\"143.080458\" xlink:href=\"#m99cf44aedb\" y=\"208.388323\"/>\r\n     <use style=\"fill:#ff00ff;fill-opacity:0.5;stroke:#ff00ff;stroke-opacity:0.5;\" x=\"208.758926\" xlink:href=\"#m99cf44aedb\" y=\"118.146425\"/>\r\n     <use style=\"fill:#ff00ff;fill-opacity:0.5;stroke:#ff00ff;stroke-opacity:0.5;\" x=\"210.36084\" xlink:href=\"#m99cf44aedb\" y=\"156.821524\"/>\r\n     <use style=\"fill:#ff00ff;fill-opacity:0.5;stroke:#ff00ff;stroke-opacity:0.5;\" x=\"204.754142\" xlink:href=\"#m99cf44aedb\" y=\"169.713224\"/>\r\n     <use style=\"fill:#ff00ff;fill-opacity:0.5;stroke:#ff00ff;stroke-opacity:0.5;\" x=\"195.943615\" xlink:href=\"#m99cf44aedb\" y=\"152.524291\"/>\r\n     <use style=\"fill:#ff00ff;fill-opacity:0.5;stroke:#ff00ff;stroke-opacity:0.5;\" x=\"180.725434\" xlink:href=\"#m99cf44aedb\" y=\"197.64524\"/>\r\n     <use style=\"fill:#ff00ff;fill-opacity:0.5;stroke:#ff00ff;stroke-opacity:0.5;\" x=\"187.934046\" xlink:href=\"#m99cf44aedb\" y=\"178.30769\"/>\r\n     <use style=\"fill:#ff00ff;fill-opacity:0.5;stroke:#ff00ff;stroke-opacity:0.5;\" x=\"159.900553\" xlink:href=\"#m99cf44aedb\" y=\"189.050773\"/>\r\n     <use style=\"fill:#ff00ff;fill-opacity:0.5;stroke:#ff00ff;stroke-opacity:0.5;\" x=\"182.327347\" xlink:href=\"#m99cf44aedb\" y=\"174.010457\"/>\r\n     <use style=\"fill:#ff00ff;fill-opacity:0.5;stroke:#ff00ff;stroke-opacity:0.5;\" x=\"259.219214\" xlink:href=\"#m99cf44aedb\" y=\"191.19939\"/>\r\n     <use style=\"fill:#ff00ff;fill-opacity:0.5;stroke:#ff00ff;stroke-opacity:0.5;\" x=\"207.157013\" xlink:href=\"#m99cf44aedb\" y=\"163.267374\"/>\r\n     <use style=\"fill:#ff00ff;fill-opacity:0.5;stroke:#ff00ff;stroke-opacity:0.5;\" x=\"214.365625\" xlink:href=\"#m99cf44aedb\" y=\"174.010457\"/>\r\n     <use style=\"fill:#ff00ff;fill-opacity:0.5;stroke:#ff00ff;stroke-opacity:0.5;\" x=\"248.806773\" xlink:href=\"#m99cf44aedb\" y=\"189.050773\"/>\r\n     <use style=\"fill:#ff00ff;fill-opacity:0.5;stroke:#ff00ff;stroke-opacity:0.5;\" x=\"261.622084\" xlink:href=\"#m99cf44aedb\" y=\"171.86184\"/>\r\n     <use style=\"fill:#ff00ff;fill-opacity:0.5;stroke:#ff00ff;stroke-opacity:0.5;\" x=\"269.631654\" xlink:href=\"#m99cf44aedb\" y=\"182.604923\"/>\r\n     <use style=\"fill:#ff00ff;fill-opacity:0.5;stroke:#ff00ff;stroke-opacity:0.5;\" x=\"159.900553\" xlink:href=\"#m99cf44aedb\" y=\"139.632591\"/>\r\n     <use style=\"fill:#ff00ff;fill-opacity:0.5;stroke:#ff00ff;stroke-opacity:0.5;\" x=\"232.787635\" xlink:href=\"#m99cf44aedb\" y=\"161.118757\"/>\r\n     <use style=\"fill:#ff00ff;fill-opacity:0.5;stroke:#ff00ff;stroke-opacity:0.5;\" x=\"290.456534\" xlink:href=\"#m99cf44aedb\" y=\"208.388323\"/>\r\n     <use style=\"fill:#ff00ff;fill-opacity:0.5;stroke:#ff00ff;stroke-opacity:0.5;\" x=\"209.559883\" xlink:href=\"#m99cf44aedb\" y=\"195.496623\"/>\r\n     <use style=\"fill:#ff00ff;fill-opacity:0.5;stroke:#ff00ff;stroke-opacity:0.5;\" x=\"245.602946\" xlink:href=\"#m99cf44aedb\" y=\"182.604923\"/>\r\n     <use style=\"fill:#ff00ff;fill-opacity:0.5;stroke:#ff00ff;stroke-opacity:0.5;\" x=\"226.379979\" xlink:href=\"#m99cf44aedb\" y=\"137.483975\"/>\r\n     <use style=\"fill:#ff00ff;fill-opacity:0.5;stroke:#ff00ff;stroke-opacity:0.5;\" x=\"260.02017\" xlink:href=\"#m99cf44aedb\" y=\"115.997809\"/>\r\n     <use style=\"fill:#ff00ff;fill-opacity:0.5;stroke:#ff00ff;stroke-opacity:0.5;\" x=\"203.152228\" xlink:href=\"#m99cf44aedb\" y=\"139.632591\"/>\r\n     <use style=\"fill:#ff00ff;fill-opacity:0.5;stroke:#ff00ff;stroke-opacity:0.5;\" x=\"228.78285\" xlink:href=\"#m99cf44aedb\" y=\"131.038125\"/>\r\n     <use style=\"fill:#ff00ff;fill-opacity:0.5;stroke:#ff00ff;stroke-opacity:0.5;\" x=\"238.394333\" xlink:href=\"#m99cf44aedb\" y=\"169.713224\"/>\r\n     <use style=\"fill:#ff00ff;fill-opacity:0.5;stroke:#ff00ff;stroke-opacity:0.5;\" x=\"186.332132\" xlink:href=\"#m99cf44aedb\" y=\"158.970141\"/>\r\n     <use style=\"fill:#ff00ff;fill-opacity:0.5;stroke:#ff00ff;stroke-opacity:0.5;\" x=\"233.588592\" xlink:href=\"#m99cf44aedb\" y=\"180.456307\"/>\r\n     <use style=\"fill:#ff00ff;fill-opacity:0.5;stroke:#ff00ff;stroke-opacity:0.5;\" x=\"287.252706\" xlink:href=\"#m99cf44aedb\" y=\"189.050773\"/>\r\n     <use style=\"fill:#ff00ff;fill-opacity:0.5;stroke:#ff00ff;stroke-opacity:0.5;\" x=\"175.919692\" xlink:href=\"#m99cf44aedb\" y=\"171.86184\"/>\r\n     <use style=\"fill:#ff00ff;fill-opacity:0.5;stroke:#ff00ff;stroke-opacity:0.5;\" x=\"327.300553\" xlink:href=\"#m99cf44aedb\" y=\"169.713224\"/>\r\n     <use style=\"fill:#ff00ff;fill-opacity:0.5;stroke:#ff00ff;stroke-opacity:0.5;\" x=\"258.418257\" xlink:href=\"#m99cf44aedb\" y=\"189.050773\"/>\r\n     <use style=\"fill:#ff00ff;fill-opacity:0.5;stroke:#ff00ff;stroke-opacity:0.5;\" x=\"168.71108\" xlink:href=\"#m99cf44aedb\" y=\"191.19939\"/>\r\n     <use style=\"fill:#ff00ff;fill-opacity:0.5;stroke:#ff00ff;stroke-opacity:0.5;\" x=\"275.238352\" xlink:href=\"#m99cf44aedb\" y=\"150.375674\"/>\r\n     <use style=\"fill:#ff00ff;fill-opacity:0.5;stroke:#ff00ff;stroke-opacity:0.5;\" x=\"207.957969\" xlink:href=\"#m99cf44aedb\" y=\"152.524291\"/>\r\n     <use style=\"fill:#ff00ff;fill-opacity:0.5;stroke:#ff00ff;stroke-opacity:0.5;\" x=\"216.768496\" xlink:href=\"#m99cf44aedb\" y=\"152.524291\"/>\r\n     <use style=\"fill:#ff00ff;fill-opacity:0.5;stroke:#ff00ff;stroke-opacity:0.5;\" x=\"282.446965\" xlink:href=\"#m99cf44aedb\" y=\"186.902157\"/>\r\n     <use style=\"fill:#ff00ff;fill-opacity:0.5;stroke:#ff00ff;stroke-opacity:0.5;\" x=\"278.44218\" xlink:href=\"#m99cf44aedb\" y=\"191.19939\"/>\r\n     <use style=\"fill:#ff00ff;fill-opacity:0.5;stroke:#ff00ff;stroke-opacity:0.5;\" x=\"256.015386\" xlink:href=\"#m99cf44aedb\" y=\"141.781208\"/>\r\n     <use style=\"fill:#ff00ff;fill-opacity:0.5;stroke:#ff00ff;stroke-opacity:0.5;\" x=\"205.555099\" xlink:href=\"#m99cf44aedb\" y=\"191.19939\"/>\r\n     <use style=\"fill:#ff00ff;fill-opacity:0.5;stroke:#ff00ff;stroke-opacity:0.5;\" x=\"266.427826\" xlink:href=\"#m99cf44aedb\" y=\"154.672908\"/>\r\n     <use style=\"fill:#ff00ff;fill-opacity:0.5;stroke:#ff00ff;stroke-opacity:0.5;\" x=\"252.010601\" xlink:href=\"#m99cf44aedb\" y=\"139.632591\"/>\r\n     <use style=\"fill:#ff00ff;fill-opacity:0.5;stroke:#ff00ff;stroke-opacity:0.5;\" x=\"155.895769\" xlink:href=\"#m99cf44aedb\" y=\"174.010457\"/>\r\n     <use style=\"fill:#ff00ff;fill-opacity:0.5;stroke:#ff00ff;stroke-opacity:0.5;\" x=\"201.550314\" xlink:href=\"#m99cf44aedb\" y=\"195.496623\"/>\r\n     <use style=\"fill:#ff00ff;fill-opacity:0.5;stroke:#ff00ff;stroke-opacity:0.5;\" x=\"312.883328\" xlink:href=\"#m99cf44aedb\" y=\"184.75354\"/>\r\n     <use style=\"fill:#ff00ff;fill-opacity:0.5;stroke:#ff00ff;stroke-opacity:0.5;\" x=\"276.840266\" xlink:href=\"#m99cf44aedb\" y=\"176.159074\"/>\r\n     <use style=\"fill:#ff00ff;fill-opacity:0.5;stroke:#ff00ff;stroke-opacity:0.5;\" x=\"252.010601\" xlink:href=\"#m99cf44aedb\" y=\"161.118757\"/>\r\n     <use style=\"fill:#ff00ff;fill-opacity:0.5;stroke:#ff00ff;stroke-opacity:0.5;\" x=\"241.598161\" xlink:href=\"#m99cf44aedb\" y=\"122.443659\"/>\r\n     <use style=\"fill:#ff00ff;fill-opacity:0.5;stroke:#ff00ff;stroke-opacity:0.5;\" x=\"233.588592\" xlink:href=\"#m99cf44aedb\" y=\"122.443659\"/>\r\n     <use style=\"fill:#ff00ff;fill-opacity:0.5;stroke:#ff00ff;stroke-opacity:0.5;\" x=\"310.480458\" xlink:href=\"#m99cf44aedb\" y=\"174.010457\"/>\r\n    </g>\r\n   </g>\r\n   <g id=\"matplotlib.axis_1\">\r\n    <g id=\"xtick_1\">\r\n     <g id=\"line2d_1\">\r\n      <defs>\r\n       <path d=\"M 0 0 \r\nL 0 3.5 \r\n\" id=\"m4a01ae9d58\" style=\"stroke:#000000;stroke-width:0.8;\"/>\r\n      </defs>\r\n      <g>\r\n       <use style=\"stroke:#000000;stroke-width:0.8;\" x=\"59.780936\" xlink:href=\"#m4a01ae9d58\" y=\"239.758125\"/>\r\n      </g>\r\n     </g>\r\n     <g id=\"text_1\">\r\n      <!-- 11.0 -->\r\n      <g transform=\"translate(48.648124 254.356562)scale(0.1 -0.1)\">\r\n       <defs>\r\n        <path d=\"M 12.40625 8.296875 \r\nL 28.515625 8.296875 \r\nL 28.515625 63.921875 \r\nL 10.984375 60.40625 \r\nL 10.984375 69.390625 \r\nL 28.421875 72.90625 \r\nL 38.28125 72.90625 \r\nL 38.28125 8.296875 \r\nL 54.390625 8.296875 \r\nL 54.390625 0 \r\nL 12.40625 0 \r\nz\r\n\" id=\"DejaVuSans-49\"/>\r\n        <path d=\"M 10.6875 12.40625 \r\nL 21 12.40625 \r\nL 21 0 \r\nL 10.6875 0 \r\nz\r\n\" id=\"DejaVuSans-46\"/>\r\n        <path d=\"M 31.78125 66.40625 \r\nQ 24.171875 66.40625 20.328125 58.90625 \r\nQ 16.5 51.421875 16.5 36.375 \r\nQ 16.5 21.390625 20.328125 13.890625 \r\nQ 24.171875 6.390625 31.78125 6.390625 \r\nQ 39.453125 6.390625 43.28125 13.890625 \r\nQ 47.125 21.390625 47.125 36.375 \r\nQ 47.125 51.421875 43.28125 58.90625 \r\nQ 39.453125 66.40625 31.78125 66.40625 \r\nz\r\nM 31.78125 74.21875 \r\nQ 44.046875 74.21875 50.515625 64.515625 \r\nQ 56.984375 54.828125 56.984375 36.375 \r\nQ 56.984375 17.96875 50.515625 8.265625 \r\nQ 44.046875 -1.421875 31.78125 -1.421875 \r\nQ 19.53125 -1.421875 13.0625 8.265625 \r\nQ 6.59375 17.96875 6.59375 36.375 \r\nQ 6.59375 54.828125 13.0625 64.515625 \r\nQ 19.53125 74.21875 31.78125 74.21875 \r\nz\r\n\" id=\"DejaVuSans-48\"/>\r\n       </defs>\r\n       <use xlink:href=\"#DejaVuSans-49\"/>\r\n       <use x=\"63.623047\" xlink:href=\"#DejaVuSans-49\"/>\r\n       <use x=\"127.246094\" xlink:href=\"#DejaVuSans-46\"/>\r\n       <use x=\"159.033203\" xlink:href=\"#DejaVuSans-48\"/>\r\n      </g>\r\n     </g>\r\n    </g>\r\n    <g id=\"xtick_2\">\r\n     <g id=\"line2d_2\">\r\n      <g>\r\n       <use style=\"stroke:#000000;stroke-width:0.8;\" x=\"99.828783\" xlink:href=\"#m4a01ae9d58\" y=\"239.758125\"/>\r\n      </g>\r\n     </g>\r\n     <g id=\"text_2\">\r\n      <!-- 11.5 -->\r\n      <g transform=\"translate(88.69597 254.356562)scale(0.1 -0.1)\">\r\n       <defs>\r\n        <path d=\"M 10.796875 72.90625 \r\nL 49.515625 72.90625 \r\nL 49.515625 64.59375 \r\nL 19.828125 64.59375 \r\nL 19.828125 46.734375 \r\nQ 21.96875 47.46875 24.109375 47.828125 \r\nQ 26.265625 48.1875 28.421875 48.1875 \r\nQ 40.625 48.1875 47.75 41.5 \r\nQ 54.890625 34.8125 54.890625 23.390625 \r\nQ 54.890625 11.625 47.5625 5.09375 \r\nQ 40.234375 -1.421875 26.90625 -1.421875 \r\nQ 22.3125 -1.421875 17.546875 -0.640625 \r\nQ 12.796875 0.140625 7.71875 1.703125 \r\nL 7.71875 11.625 \r\nQ 12.109375 9.234375 16.796875 8.0625 \r\nQ 21.484375 6.890625 26.703125 6.890625 \r\nQ 35.15625 6.890625 40.078125 11.328125 \r\nQ 45.015625 15.765625 45.015625 23.390625 \r\nQ 45.015625 31 40.078125 35.4375 \r\nQ 35.15625 39.890625 26.703125 39.890625 \r\nQ 22.75 39.890625 18.8125 39.015625 \r\nQ 14.890625 38.140625 10.796875 36.28125 \r\nz\r\n\" id=\"DejaVuSans-53\"/>\r\n       </defs>\r\n       <use xlink:href=\"#DejaVuSans-49\"/>\r\n       <use x=\"63.623047\" xlink:href=\"#DejaVuSans-49\"/>\r\n       <use x=\"127.246094\" xlink:href=\"#DejaVuSans-46\"/>\r\n       <use x=\"159.033203\" xlink:href=\"#DejaVuSans-53\"/>\r\n      </g>\r\n     </g>\r\n    </g>\r\n    <g id=\"xtick_3\">\r\n     <g id=\"line2d_3\">\r\n      <g>\r\n       <use style=\"stroke:#000000;stroke-width:0.8;\" x=\"139.87663\" xlink:href=\"#m4a01ae9d58\" y=\"239.758125\"/>\r\n      </g>\r\n     </g>\r\n     <g id=\"text_3\">\r\n      <!-- 12.0 -->\r\n      <g transform=\"translate(128.743817 254.356562)scale(0.1 -0.1)\">\r\n       <defs>\r\n        <path d=\"M 19.1875 8.296875 \r\nL 53.609375 8.296875 \r\nL 53.609375 0 \r\nL 7.328125 0 \r\nL 7.328125 8.296875 \r\nQ 12.9375 14.109375 22.625 23.890625 \r\nQ 32.328125 33.6875 34.8125 36.53125 \r\nQ 39.546875 41.84375 41.421875 45.53125 \r\nQ 43.3125 49.21875 43.3125 52.78125 \r\nQ 43.3125 58.59375 39.234375 62.25 \r\nQ 35.15625 65.921875 28.609375 65.921875 \r\nQ 23.96875 65.921875 18.8125 64.3125 \r\nQ 13.671875 62.703125 7.8125 59.421875 \r\nL 7.8125 69.390625 \r\nQ 13.765625 71.78125 18.9375 73 \r\nQ 24.125 74.21875 28.421875 74.21875 \r\nQ 39.75 74.21875 46.484375 68.546875 \r\nQ 53.21875 62.890625 53.21875 53.421875 \r\nQ 53.21875 48.921875 51.53125 44.890625 \r\nQ 49.859375 40.875 45.40625 35.40625 \r\nQ 44.1875 33.984375 37.640625 27.21875 \r\nQ 31.109375 20.453125 19.1875 8.296875 \r\nz\r\n\" id=\"DejaVuSans-50\"/>\r\n       </defs>\r\n       <use xlink:href=\"#DejaVuSans-49\"/>\r\n       <use x=\"63.623047\" xlink:href=\"#DejaVuSans-50\"/>\r\n       <use x=\"127.246094\" xlink:href=\"#DejaVuSans-46\"/>\r\n       <use x=\"159.033203\" xlink:href=\"#DejaVuSans-48\"/>\r\n      </g>\r\n     </g>\r\n    </g>\r\n    <g id=\"xtick_4\">\r\n     <g id=\"line2d_4\">\r\n      <g>\r\n       <use style=\"stroke:#000000;stroke-width:0.8;\" x=\"179.924477\" xlink:href=\"#m4a01ae9d58\" y=\"239.758125\"/>\r\n      </g>\r\n     </g>\r\n     <g id=\"text_4\">\r\n      <!-- 12.5 -->\r\n      <g transform=\"translate(168.791664 254.356562)scale(0.1 -0.1)\">\r\n       <use xlink:href=\"#DejaVuSans-49\"/>\r\n       <use x=\"63.623047\" xlink:href=\"#DejaVuSans-50\"/>\r\n       <use x=\"127.246094\" xlink:href=\"#DejaVuSans-46\"/>\r\n       <use x=\"159.033203\" xlink:href=\"#DejaVuSans-53\"/>\r\n      </g>\r\n     </g>\r\n    </g>\r\n    <g id=\"xtick_5\">\r\n     <g id=\"line2d_5\">\r\n      <g>\r\n       <use style=\"stroke:#000000;stroke-width:0.8;\" x=\"219.972324\" xlink:href=\"#m4a01ae9d58\" y=\"239.758125\"/>\r\n      </g>\r\n     </g>\r\n     <g id=\"text_5\">\r\n      <!-- 13.0 -->\r\n      <g transform=\"translate(208.839511 254.356562)scale(0.1 -0.1)\">\r\n       <defs>\r\n        <path d=\"M 40.578125 39.3125 \r\nQ 47.65625 37.796875 51.625 33 \r\nQ 55.609375 28.21875 55.609375 21.1875 \r\nQ 55.609375 10.40625 48.1875 4.484375 \r\nQ 40.765625 -1.421875 27.09375 -1.421875 \r\nQ 22.515625 -1.421875 17.65625 -0.515625 \r\nQ 12.796875 0.390625 7.625 2.203125 \r\nL 7.625 11.71875 \r\nQ 11.71875 9.328125 16.59375 8.109375 \r\nQ 21.484375 6.890625 26.8125 6.890625 \r\nQ 36.078125 6.890625 40.9375 10.546875 \r\nQ 45.796875 14.203125 45.796875 21.1875 \r\nQ 45.796875 27.640625 41.28125 31.265625 \r\nQ 36.765625 34.90625 28.71875 34.90625 \r\nL 20.21875 34.90625 \r\nL 20.21875 43.015625 \r\nL 29.109375 43.015625 \r\nQ 36.375 43.015625 40.234375 45.921875 \r\nQ 44.09375 48.828125 44.09375 54.296875 \r\nQ 44.09375 59.90625 40.109375 62.90625 \r\nQ 36.140625 65.921875 28.71875 65.921875 \r\nQ 24.65625 65.921875 20.015625 65.03125 \r\nQ 15.375 64.15625 9.8125 62.3125 \r\nL 9.8125 71.09375 \r\nQ 15.4375 72.65625 20.34375 73.4375 \r\nQ 25.25 74.21875 29.59375 74.21875 \r\nQ 40.828125 74.21875 47.359375 69.109375 \r\nQ 53.90625 64.015625 53.90625 55.328125 \r\nQ 53.90625 49.265625 50.4375 45.09375 \r\nQ 46.96875 40.921875 40.578125 39.3125 \r\nz\r\n\" id=\"DejaVuSans-51\"/>\r\n       </defs>\r\n       <use xlink:href=\"#DejaVuSans-49\"/>\r\n       <use x=\"63.623047\" xlink:href=\"#DejaVuSans-51\"/>\r\n       <use x=\"127.246094\" xlink:href=\"#DejaVuSans-46\"/>\r\n       <use x=\"159.033203\" xlink:href=\"#DejaVuSans-48\"/>\r\n      </g>\r\n     </g>\r\n    </g>\r\n    <g id=\"xtick_6\">\r\n     <g id=\"line2d_6\">\r\n      <g>\r\n       <use style=\"stroke:#000000;stroke-width:0.8;\" x=\"260.02017\" xlink:href=\"#m4a01ae9d58\" y=\"239.758125\"/>\r\n      </g>\r\n     </g>\r\n     <g id=\"text_6\">\r\n      <!-- 13.5 -->\r\n      <g transform=\"translate(248.887358 254.356562)scale(0.1 -0.1)\">\r\n       <use xlink:href=\"#DejaVuSans-49\"/>\r\n       <use x=\"63.623047\" xlink:href=\"#DejaVuSans-51\"/>\r\n       <use x=\"127.246094\" xlink:href=\"#DejaVuSans-46\"/>\r\n       <use x=\"159.033203\" xlink:href=\"#DejaVuSans-53\"/>\r\n      </g>\r\n     </g>\r\n    </g>\r\n    <g id=\"xtick_7\">\r\n     <g id=\"line2d_7\">\r\n      <g>\r\n       <use style=\"stroke:#000000;stroke-width:0.8;\" x=\"300.068017\" xlink:href=\"#m4a01ae9d58\" y=\"239.758125\"/>\r\n      </g>\r\n     </g>\r\n     <g id=\"text_7\">\r\n      <!-- 14.0 -->\r\n      <g transform=\"translate(288.935205 254.356562)scale(0.1 -0.1)\">\r\n       <defs>\r\n        <path d=\"M 37.796875 64.3125 \r\nL 12.890625 25.390625 \r\nL 37.796875 25.390625 \r\nz\r\nM 35.203125 72.90625 \r\nL 47.609375 72.90625 \r\nL 47.609375 25.390625 \r\nL 58.015625 25.390625 \r\nL 58.015625 17.1875 \r\nL 47.609375 17.1875 \r\nL 47.609375 0 \r\nL 37.796875 0 \r\nL 37.796875 17.1875 \r\nL 4.890625 17.1875 \r\nL 4.890625 26.703125 \r\nz\r\n\" id=\"DejaVuSans-52\"/>\r\n       </defs>\r\n       <use xlink:href=\"#DejaVuSans-49\"/>\r\n       <use x=\"63.623047\" xlink:href=\"#DejaVuSans-52\"/>\r\n       <use x=\"127.246094\" xlink:href=\"#DejaVuSans-46\"/>\r\n       <use x=\"159.033203\" xlink:href=\"#DejaVuSans-48\"/>\r\n      </g>\r\n     </g>\r\n    </g>\r\n    <g id=\"xtick_8\">\r\n     <g id=\"line2d_8\">\r\n      <g>\r\n       <use style=\"stroke:#000000;stroke-width:0.8;\" x=\"340.115864\" xlink:href=\"#m4a01ae9d58\" y=\"239.758125\"/>\r\n      </g>\r\n     </g>\r\n     <g id=\"text_8\">\r\n      <!-- 14.5 -->\r\n      <g transform=\"translate(328.983052 254.356562)scale(0.1 -0.1)\">\r\n       <use xlink:href=\"#DejaVuSans-49\"/>\r\n       <use x=\"63.623047\" xlink:href=\"#DejaVuSans-52\"/>\r\n       <use x=\"127.246094\" xlink:href=\"#DejaVuSans-46\"/>\r\n       <use x=\"159.033203\" xlink:href=\"#DejaVuSans-53\"/>\r\n      </g>\r\n     </g>\r\n    </g>\r\n    <g id=\"xtick_9\">\r\n     <g id=\"line2d_9\">\r\n      <g>\r\n       <use style=\"stroke:#000000;stroke-width:0.8;\" x=\"380.163711\" xlink:href=\"#m4a01ae9d58\" y=\"239.758125\"/>\r\n      </g>\r\n     </g>\r\n     <g id=\"text_9\">\r\n      <!-- 15.0 -->\r\n      <g transform=\"translate(369.030899 254.356562)scale(0.1 -0.1)\">\r\n       <use xlink:href=\"#DejaVuSans-49\"/>\r\n       <use x=\"63.623047\" xlink:href=\"#DejaVuSans-53\"/>\r\n       <use x=\"127.246094\" xlink:href=\"#DejaVuSans-46\"/>\r\n       <use x=\"159.033203\" xlink:href=\"#DejaVuSans-48\"/>\r\n      </g>\r\n     </g>\r\n    </g>\r\n    <g id=\"text_10\">\r\n     <!-- Alcohal -->\r\n     <g transform=\"translate(196.125781 268.034687)scale(0.1 -0.1)\">\r\n      <defs>\r\n       <path d=\"M 34.1875 63.1875 \r\nL 20.796875 26.90625 \r\nL 47.609375 26.90625 \r\nz\r\nM 28.609375 72.90625 \r\nL 39.796875 72.90625 \r\nL 67.578125 0 \r\nL 57.328125 0 \r\nL 50.6875 18.703125 \r\nL 17.828125 18.703125 \r\nL 11.1875 0 \r\nL 0.78125 0 \r\nz\r\n\" id=\"DejaVuSans-65\"/>\r\n       <path d=\"M 9.421875 75.984375 \r\nL 18.40625 75.984375 \r\nL 18.40625 0 \r\nL 9.421875 0 \r\nz\r\n\" id=\"DejaVuSans-108\"/>\r\n       <path d=\"M 48.78125 52.59375 \r\nL 48.78125 44.1875 \r\nQ 44.96875 46.296875 41.140625 47.34375 \r\nQ 37.3125 48.390625 33.40625 48.390625 \r\nQ 24.65625 48.390625 19.8125 42.84375 \r\nQ 14.984375 37.3125 14.984375 27.296875 \r\nQ 14.984375 17.28125 19.8125 11.734375 \r\nQ 24.65625 6.203125 33.40625 6.203125 \r\nQ 37.3125 6.203125 41.140625 7.25 \r\nQ 44.96875 8.296875 48.78125 10.40625 \r\nL 48.78125 2.09375 \r\nQ 45.015625 0.34375 40.984375 -0.53125 \r\nQ 36.96875 -1.421875 32.421875 -1.421875 \r\nQ 20.0625 -1.421875 12.78125 6.34375 \r\nQ 5.515625 14.109375 5.515625 27.296875 \r\nQ 5.515625 40.671875 12.859375 48.328125 \r\nQ 20.21875 56 33.015625 56 \r\nQ 37.15625 56 41.109375 55.140625 \r\nQ 45.0625 54.296875 48.78125 52.59375 \r\nz\r\n\" id=\"DejaVuSans-99\"/>\r\n       <path d=\"M 30.609375 48.390625 \r\nQ 23.390625 48.390625 19.1875 42.75 \r\nQ 14.984375 37.109375 14.984375 27.296875 \r\nQ 14.984375 17.484375 19.15625 11.84375 \r\nQ 23.34375 6.203125 30.609375 6.203125 \r\nQ 37.796875 6.203125 41.984375 11.859375 \r\nQ 46.1875 17.53125 46.1875 27.296875 \r\nQ 46.1875 37.015625 41.984375 42.703125 \r\nQ 37.796875 48.390625 30.609375 48.390625 \r\nz\r\nM 30.609375 56 \r\nQ 42.328125 56 49.015625 48.375 \r\nQ 55.71875 40.765625 55.71875 27.296875 \r\nQ 55.71875 13.875 49.015625 6.21875 \r\nQ 42.328125 -1.421875 30.609375 -1.421875 \r\nQ 18.84375 -1.421875 12.171875 6.21875 \r\nQ 5.515625 13.875 5.515625 27.296875 \r\nQ 5.515625 40.765625 12.171875 48.375 \r\nQ 18.84375 56 30.609375 56 \r\nz\r\n\" id=\"DejaVuSans-111\"/>\r\n       <path d=\"M 54.890625 33.015625 \r\nL 54.890625 0 \r\nL 45.90625 0 \r\nL 45.90625 32.71875 \r\nQ 45.90625 40.484375 42.875 44.328125 \r\nQ 39.84375 48.1875 33.796875 48.1875 \r\nQ 26.515625 48.1875 22.3125 43.546875 \r\nQ 18.109375 38.921875 18.109375 30.90625 \r\nL 18.109375 0 \r\nL 9.078125 0 \r\nL 9.078125 75.984375 \r\nL 18.109375 75.984375 \r\nL 18.109375 46.1875 \r\nQ 21.34375 51.125 25.703125 53.5625 \r\nQ 30.078125 56 35.796875 56 \r\nQ 45.21875 56 50.046875 50.171875 \r\nQ 54.890625 44.34375 54.890625 33.015625 \r\nz\r\n\" id=\"DejaVuSans-104\"/>\r\n       <path d=\"M 34.28125 27.484375 \r\nQ 23.390625 27.484375 19.1875 25 \r\nQ 14.984375 22.515625 14.984375 16.5 \r\nQ 14.984375 11.71875 18.140625 8.90625 \r\nQ 21.296875 6.109375 26.703125 6.109375 \r\nQ 34.1875 6.109375 38.703125 11.40625 \r\nQ 43.21875 16.703125 43.21875 25.484375 \r\nL 43.21875 27.484375 \r\nz\r\nM 52.203125 31.203125 \r\nL 52.203125 0 \r\nL 43.21875 0 \r\nL 43.21875 8.296875 \r\nQ 40.140625 3.328125 35.546875 0.953125 \r\nQ 30.953125 -1.421875 24.3125 -1.421875 \r\nQ 15.921875 -1.421875 10.953125 3.296875 \r\nQ 6 8.015625 6 15.921875 \r\nQ 6 25.140625 12.171875 29.828125 \r\nQ 18.359375 34.515625 30.609375 34.515625 \r\nL 43.21875 34.515625 \r\nL 43.21875 35.40625 \r\nQ 43.21875 41.609375 39.140625 45 \r\nQ 35.0625 48.390625 27.6875 48.390625 \r\nQ 23 48.390625 18.546875 47.265625 \r\nQ 14.109375 46.140625 10.015625 43.890625 \r\nL 10.015625 52.203125 \r\nQ 14.9375 54.109375 19.578125 55.046875 \r\nQ 24.21875 56 28.609375 56 \r\nQ 40.484375 56 46.34375 49.84375 \r\nQ 52.203125 43.703125 52.203125 31.203125 \r\nz\r\n\" id=\"DejaVuSans-97\"/>\r\n      </defs>\r\n      <use xlink:href=\"#DejaVuSans-65\"/>\r\n      <use x=\"68.408203\" xlink:href=\"#DejaVuSans-108\"/>\r\n      <use x=\"96.191406\" xlink:href=\"#DejaVuSans-99\"/>\r\n      <use x=\"151.171875\" xlink:href=\"#DejaVuSans-111\"/>\r\n      <use x=\"212.353516\" xlink:href=\"#DejaVuSans-104\"/>\r\n      <use x=\"275.732422\" xlink:href=\"#DejaVuSans-97\"/>\r\n      <use x=\"337.011719\" xlink:href=\"#DejaVuSans-108\"/>\r\n     </g>\r\n    </g>\r\n   </g>\r\n   <g id=\"matplotlib.axis_2\">\r\n    <g id=\"ytick_1\">\r\n     <g id=\"line2d_10\">\r\n      <defs>\r\n       <path d=\"M 0 0 \r\nL -3.5 0 \r\n\" id=\"m8c191ab861\" style=\"stroke:#000000;stroke-width:0.8;\"/>\r\n      </defs>\r\n      <g>\r\n       <use style=\"stroke:#000000;stroke-width:0.8;\" x=\"46.965625\" xlink:href=\"#m8c191ab861\" y=\"208.388323\"/>\r\n      </g>\r\n     </g>\r\n     <g id=\"text_11\">\r\n      <!-- 80 -->\r\n      <g transform=\"translate(27.240625 212.187541)scale(0.1 -0.1)\">\r\n       <defs>\r\n        <path d=\"M 31.78125 34.625 \r\nQ 24.75 34.625 20.71875 30.859375 \r\nQ 16.703125 27.09375 16.703125 20.515625 \r\nQ 16.703125 13.921875 20.71875 10.15625 \r\nQ 24.75 6.390625 31.78125 6.390625 \r\nQ 38.8125 6.390625 42.859375 10.171875 \r\nQ 46.921875 13.96875 46.921875 20.515625 \r\nQ 46.921875 27.09375 42.890625 30.859375 \r\nQ 38.875 34.625 31.78125 34.625 \r\nz\r\nM 21.921875 38.8125 \r\nQ 15.578125 40.375 12.03125 44.71875 \r\nQ 8.5 49.078125 8.5 55.328125 \r\nQ 8.5 64.0625 14.71875 69.140625 \r\nQ 20.953125 74.21875 31.78125 74.21875 \r\nQ 42.671875 74.21875 48.875 69.140625 \r\nQ 55.078125 64.0625 55.078125 55.328125 \r\nQ 55.078125 49.078125 51.53125 44.71875 \r\nQ 48 40.375 41.703125 38.8125 \r\nQ 48.828125 37.15625 52.796875 32.3125 \r\nQ 56.78125 27.484375 56.78125 20.515625 \r\nQ 56.78125 9.90625 50.3125 4.234375 \r\nQ 43.84375 -1.421875 31.78125 -1.421875 \r\nQ 19.734375 -1.421875 13.25 4.234375 \r\nQ 6.78125 9.90625 6.78125 20.515625 \r\nQ 6.78125 27.484375 10.78125 32.3125 \r\nQ 14.796875 37.15625 21.921875 38.8125 \r\nz\r\nM 18.3125 54.390625 \r\nQ 18.3125 48.734375 21.84375 45.5625 \r\nQ 25.390625 42.390625 31.78125 42.390625 \r\nQ 38.140625 42.390625 41.71875 45.5625 \r\nQ 45.3125 48.734375 45.3125 54.390625 \r\nQ 45.3125 60.0625 41.71875 63.234375 \r\nQ 38.140625 66.40625 31.78125 66.40625 \r\nQ 25.390625 66.40625 21.84375 63.234375 \r\nQ 18.3125 60.0625 18.3125 54.390625 \r\nz\r\n\" id=\"DejaVuSans-56\"/>\r\n       </defs>\r\n       <use xlink:href=\"#DejaVuSans-56\"/>\r\n       <use x=\"63.623047\" xlink:href=\"#DejaVuSans-48\"/>\r\n      </g>\r\n     </g>\r\n    </g>\r\n    <g id=\"ytick_2\">\r\n     <g id=\"line2d_11\">\r\n      <g>\r\n       <use style=\"stroke:#000000;stroke-width:0.8;\" x=\"46.965625\" xlink:href=\"#m8c191ab861\" y=\"165.415991\"/>\r\n      </g>\r\n     </g>\r\n     <g id=\"text_12\">\r\n      <!-- 100 -->\r\n      <g transform=\"translate(20.878125 169.215209)scale(0.1 -0.1)\">\r\n       <use xlink:href=\"#DejaVuSans-49\"/>\r\n       <use x=\"63.623047\" xlink:href=\"#DejaVuSans-48\"/>\r\n       <use x=\"127.246094\" xlink:href=\"#DejaVuSans-48\"/>\r\n      </g>\r\n     </g>\r\n    </g>\r\n    <g id=\"ytick_3\">\r\n     <g id=\"line2d_12\">\r\n      <g>\r\n       <use style=\"stroke:#000000;stroke-width:0.8;\" x=\"46.965625\" xlink:href=\"#m8c191ab861\" y=\"122.443659\"/>\r\n      </g>\r\n     </g>\r\n     <g id=\"text_13\">\r\n      <!-- 120 -->\r\n      <g transform=\"translate(20.878125 126.242877)scale(0.1 -0.1)\">\r\n       <use xlink:href=\"#DejaVuSans-49\"/>\r\n       <use x=\"63.623047\" xlink:href=\"#DejaVuSans-50\"/>\r\n       <use x=\"127.246094\" xlink:href=\"#DejaVuSans-48\"/>\r\n      </g>\r\n     </g>\r\n    </g>\r\n    <g id=\"ytick_4\">\r\n     <g id=\"line2d_13\">\r\n      <g>\r\n       <use style=\"stroke:#000000;stroke-width:0.8;\" x=\"46.965625\" xlink:href=\"#m8c191ab861\" y=\"79.471327\"/>\r\n      </g>\r\n     </g>\r\n     <g id=\"text_14\">\r\n      <!-- 140 -->\r\n      <g transform=\"translate(20.878125 83.270545)scale(0.1 -0.1)\">\r\n       <use xlink:href=\"#DejaVuSans-49\"/>\r\n       <use x=\"63.623047\" xlink:href=\"#DejaVuSans-52\"/>\r\n       <use x=\"127.246094\" xlink:href=\"#DejaVuSans-48\"/>\r\n      </g>\r\n     </g>\r\n    </g>\r\n    <g id=\"ytick_5\">\r\n     <g id=\"line2d_14\">\r\n      <g>\r\n       <use style=\"stroke:#000000;stroke-width:0.8;\" x=\"46.965625\" xlink:href=\"#m8c191ab861\" y=\"36.498995\"/>\r\n      </g>\r\n     </g>\r\n     <g id=\"text_15\">\r\n      <!-- 160 -->\r\n      <g transform=\"translate(20.878125 40.298213)scale(0.1 -0.1)\">\r\n       <defs>\r\n        <path d=\"M 33.015625 40.375 \r\nQ 26.375 40.375 22.484375 35.828125 \r\nQ 18.609375 31.296875 18.609375 23.390625 \r\nQ 18.609375 15.53125 22.484375 10.953125 \r\nQ 26.375 6.390625 33.015625 6.390625 \r\nQ 39.65625 6.390625 43.53125 10.953125 \r\nQ 47.40625 15.53125 47.40625 23.390625 \r\nQ 47.40625 31.296875 43.53125 35.828125 \r\nQ 39.65625 40.375 33.015625 40.375 \r\nz\r\nM 52.59375 71.296875 \r\nL 52.59375 62.3125 \r\nQ 48.875 64.0625 45.09375 64.984375 \r\nQ 41.3125 65.921875 37.59375 65.921875 \r\nQ 27.828125 65.921875 22.671875 59.328125 \r\nQ 17.53125 52.734375 16.796875 39.40625 \r\nQ 19.671875 43.65625 24.015625 45.921875 \r\nQ 28.375 48.1875 33.59375 48.1875 \r\nQ 44.578125 48.1875 50.953125 41.515625 \r\nQ 57.328125 34.859375 57.328125 23.390625 \r\nQ 57.328125 12.15625 50.6875 5.359375 \r\nQ 44.046875 -1.421875 33.015625 -1.421875 \r\nQ 20.359375 -1.421875 13.671875 8.265625 \r\nQ 6.984375 17.96875 6.984375 36.375 \r\nQ 6.984375 53.65625 15.1875 63.9375 \r\nQ 23.390625 74.21875 37.203125 74.21875 \r\nQ 40.921875 74.21875 44.703125 73.484375 \r\nQ 48.484375 72.75 52.59375 71.296875 \r\nz\r\n\" id=\"DejaVuSans-54\"/>\r\n       </defs>\r\n       <use xlink:href=\"#DejaVuSans-49\"/>\r\n       <use x=\"63.623047\" xlink:href=\"#DejaVuSans-54\"/>\r\n       <use x=\"127.246094\" xlink:href=\"#DejaVuSans-48\"/>\r\n      </g>\r\n     </g>\r\n    </g>\r\n    <g id=\"text_16\">\r\n     <!-- Magnesium -->\r\n     <g transform=\"translate(14.798438 159.868594)rotate(-90)scale(0.1 -0.1)\">\r\n      <defs>\r\n       <path d=\"M 9.8125 72.90625 \r\nL 24.515625 72.90625 \r\nL 43.109375 23.296875 \r\nL 61.8125 72.90625 \r\nL 76.515625 72.90625 \r\nL 76.515625 0 \r\nL 66.890625 0 \r\nL 66.890625 64.015625 \r\nL 48.09375 14.015625 \r\nL 38.1875 14.015625 \r\nL 19.390625 64.015625 \r\nL 19.390625 0 \r\nL 9.8125 0 \r\nz\r\n\" id=\"DejaVuSans-77\"/>\r\n       <path d=\"M 45.40625 27.984375 \r\nQ 45.40625 37.75 41.375 43.109375 \r\nQ 37.359375 48.484375 30.078125 48.484375 \r\nQ 22.859375 48.484375 18.828125 43.109375 \r\nQ 14.796875 37.75 14.796875 27.984375 \r\nQ 14.796875 18.265625 18.828125 12.890625 \r\nQ 22.859375 7.515625 30.078125 7.515625 \r\nQ 37.359375 7.515625 41.375 12.890625 \r\nQ 45.40625 18.265625 45.40625 27.984375 \r\nz\r\nM 54.390625 6.78125 \r\nQ 54.390625 -7.171875 48.1875 -13.984375 \r\nQ 42 -20.796875 29.203125 -20.796875 \r\nQ 24.46875 -20.796875 20.265625 -20.09375 \r\nQ 16.0625 -19.390625 12.109375 -17.921875 \r\nL 12.109375 -9.1875 \r\nQ 16.0625 -11.328125 19.921875 -12.34375 \r\nQ 23.78125 -13.375 27.78125 -13.375 \r\nQ 36.625 -13.375 41.015625 -8.765625 \r\nQ 45.40625 -4.15625 45.40625 5.171875 \r\nL 45.40625 9.625 \r\nQ 42.625 4.78125 38.28125 2.390625 \r\nQ 33.9375 0 27.875 0 \r\nQ 17.828125 0 11.671875 7.65625 \r\nQ 5.515625 15.328125 5.515625 27.984375 \r\nQ 5.515625 40.671875 11.671875 48.328125 \r\nQ 17.828125 56 27.875 56 \r\nQ 33.9375 56 38.28125 53.609375 \r\nQ 42.625 51.21875 45.40625 46.390625 \r\nL 45.40625 54.6875 \r\nL 54.390625 54.6875 \r\nz\r\n\" id=\"DejaVuSans-103\"/>\r\n       <path d=\"M 54.890625 33.015625 \r\nL 54.890625 0 \r\nL 45.90625 0 \r\nL 45.90625 32.71875 \r\nQ 45.90625 40.484375 42.875 44.328125 \r\nQ 39.84375 48.1875 33.796875 48.1875 \r\nQ 26.515625 48.1875 22.3125 43.546875 \r\nQ 18.109375 38.921875 18.109375 30.90625 \r\nL 18.109375 0 \r\nL 9.078125 0 \r\nL 9.078125 54.6875 \r\nL 18.109375 54.6875 \r\nL 18.109375 46.1875 \r\nQ 21.34375 51.125 25.703125 53.5625 \r\nQ 30.078125 56 35.796875 56 \r\nQ 45.21875 56 50.046875 50.171875 \r\nQ 54.890625 44.34375 54.890625 33.015625 \r\nz\r\n\" id=\"DejaVuSans-110\"/>\r\n       <path d=\"M 56.203125 29.59375 \r\nL 56.203125 25.203125 \r\nL 14.890625 25.203125 \r\nQ 15.484375 15.921875 20.484375 11.0625 \r\nQ 25.484375 6.203125 34.421875 6.203125 \r\nQ 39.59375 6.203125 44.453125 7.46875 \r\nQ 49.3125 8.734375 54.109375 11.28125 \r\nL 54.109375 2.78125 \r\nQ 49.265625 0.734375 44.1875 -0.34375 \r\nQ 39.109375 -1.421875 33.890625 -1.421875 \r\nQ 20.796875 -1.421875 13.15625 6.1875 \r\nQ 5.515625 13.8125 5.515625 26.8125 \r\nQ 5.515625 40.234375 12.765625 48.109375 \r\nQ 20.015625 56 32.328125 56 \r\nQ 43.359375 56 49.78125 48.890625 \r\nQ 56.203125 41.796875 56.203125 29.59375 \r\nz\r\nM 47.21875 32.234375 \r\nQ 47.125 39.59375 43.09375 43.984375 \r\nQ 39.0625 48.390625 32.421875 48.390625 \r\nQ 24.90625 48.390625 20.390625 44.140625 \r\nQ 15.875 39.890625 15.1875 32.171875 \r\nz\r\n\" id=\"DejaVuSans-101\"/>\r\n       <path d=\"M 44.28125 53.078125 \r\nL 44.28125 44.578125 \r\nQ 40.484375 46.53125 36.375 47.5 \r\nQ 32.28125 48.484375 27.875 48.484375 \r\nQ 21.1875 48.484375 17.84375 46.4375 \r\nQ 14.5 44.390625 14.5 40.28125 \r\nQ 14.5 37.15625 16.890625 35.375 \r\nQ 19.28125 33.59375 26.515625 31.984375 \r\nL 29.59375 31.296875 \r\nQ 39.15625 29.25 43.1875 25.515625 \r\nQ 47.21875 21.78125 47.21875 15.09375 \r\nQ 47.21875 7.46875 41.1875 3.015625 \r\nQ 35.15625 -1.421875 24.609375 -1.421875 \r\nQ 20.21875 -1.421875 15.453125 -0.5625 \r\nQ 10.6875 0.296875 5.421875 2 \r\nL 5.421875 11.28125 \r\nQ 10.40625 8.6875 15.234375 7.390625 \r\nQ 20.0625 6.109375 24.8125 6.109375 \r\nQ 31.15625 6.109375 34.5625 8.28125 \r\nQ 37.984375 10.453125 37.984375 14.40625 \r\nQ 37.984375 18.0625 35.515625 20.015625 \r\nQ 33.0625 21.96875 24.703125 23.78125 \r\nL 21.578125 24.515625 \r\nQ 13.234375 26.265625 9.515625 29.90625 \r\nQ 5.8125 33.546875 5.8125 39.890625 \r\nQ 5.8125 47.609375 11.28125 51.796875 \r\nQ 16.75 56 26.8125 56 \r\nQ 31.78125 56 36.171875 55.265625 \r\nQ 40.578125 54.546875 44.28125 53.078125 \r\nz\r\n\" id=\"DejaVuSans-115\"/>\r\n       <path d=\"M 9.421875 54.6875 \r\nL 18.40625 54.6875 \r\nL 18.40625 0 \r\nL 9.421875 0 \r\nz\r\nM 9.421875 75.984375 \r\nL 18.40625 75.984375 \r\nL 18.40625 64.59375 \r\nL 9.421875 64.59375 \r\nz\r\n\" id=\"DejaVuSans-105\"/>\r\n       <path d=\"M 8.5 21.578125 \r\nL 8.5 54.6875 \r\nL 17.484375 54.6875 \r\nL 17.484375 21.921875 \r\nQ 17.484375 14.15625 20.5 10.265625 \r\nQ 23.53125 6.390625 29.59375 6.390625 \r\nQ 36.859375 6.390625 41.078125 11.03125 \r\nQ 45.3125 15.671875 45.3125 23.6875 \r\nL 45.3125 54.6875 \r\nL 54.296875 54.6875 \r\nL 54.296875 0 \r\nL 45.3125 0 \r\nL 45.3125 8.40625 \r\nQ 42.046875 3.421875 37.71875 1 \r\nQ 33.40625 -1.421875 27.6875 -1.421875 \r\nQ 18.265625 -1.421875 13.375 4.4375 \r\nQ 8.5 10.296875 8.5 21.578125 \r\nz\r\nM 31.109375 56 \r\nz\r\n\" id=\"DejaVuSans-117\"/>\r\n       <path d=\"M 52 44.1875 \r\nQ 55.375 50.25 60.0625 53.125 \r\nQ 64.75 56 71.09375 56 \r\nQ 79.640625 56 84.28125 50.015625 \r\nQ 88.921875 44.046875 88.921875 33.015625 \r\nL 88.921875 0 \r\nL 79.890625 0 \r\nL 79.890625 32.71875 \r\nQ 79.890625 40.578125 77.09375 44.375 \r\nQ 74.3125 48.1875 68.609375 48.1875 \r\nQ 61.625 48.1875 57.5625 43.546875 \r\nQ 53.515625 38.921875 53.515625 30.90625 \r\nL 53.515625 0 \r\nL 44.484375 0 \r\nL 44.484375 32.71875 \r\nQ 44.484375 40.625 41.703125 44.40625 \r\nQ 38.921875 48.1875 33.109375 48.1875 \r\nQ 26.21875 48.1875 22.15625 43.53125 \r\nQ 18.109375 38.875 18.109375 30.90625 \r\nL 18.109375 0 \r\nL 9.078125 0 \r\nL 9.078125 54.6875 \r\nL 18.109375 54.6875 \r\nL 18.109375 46.1875 \r\nQ 21.1875 51.21875 25.484375 53.609375 \r\nQ 29.78125 56 35.6875 56 \r\nQ 41.65625 56 45.828125 52.96875 \r\nQ 50 49.953125 52 44.1875 \r\nz\r\n\" id=\"DejaVuSans-109\"/>\r\n      </defs>\r\n      <use xlink:href=\"#DejaVuSans-77\"/>\r\n      <use x=\"86.279297\" xlink:href=\"#DejaVuSans-97\"/>\r\n      <use x=\"147.558594\" xlink:href=\"#DejaVuSans-103\"/>\r\n      <use x=\"211.035156\" xlink:href=\"#DejaVuSans-110\"/>\r\n      <use x=\"274.414062\" xlink:href=\"#DejaVuSans-101\"/>\r\n      <use x=\"335.9375\" xlink:href=\"#DejaVuSans-115\"/>\r\n      <use x=\"388.037109\" xlink:href=\"#DejaVuSans-105\"/>\r\n      <use x=\"415.820312\" xlink:href=\"#DejaVuSans-117\"/>\r\n      <use x=\"479.199219\" xlink:href=\"#DejaVuSans-109\"/>\r\n     </g>\r\n    </g>\r\n   </g>\r\n   <g id=\"patch_3\">\r\n    <path d=\"M 46.965625 239.758125 \r\nL 46.965625 22.318125 \r\n\" style=\"fill:none;stroke:#000000;stroke-linecap:square;stroke-linejoin:miter;stroke-width:0.8;\"/>\r\n   </g>\r\n   <g id=\"patch_4\">\r\n    <path d=\"M 381.765625 239.758125 \r\nL 381.765625 22.318125 \r\n\" style=\"fill:none;stroke:#000000;stroke-linecap:square;stroke-linejoin:miter;stroke-width:0.8;\"/>\r\n   </g>\r\n   <g id=\"patch_5\">\r\n    <path d=\"M 46.965625 239.758125 \r\nL 381.765625 239.758125 \r\n\" style=\"fill:none;stroke:#000000;stroke-linecap:square;stroke-linejoin:miter;stroke-width:0.8;\"/>\r\n   </g>\r\n   <g id=\"patch_6\">\r\n    <path d=\"M 46.965625 22.318125 \r\nL 381.765625 22.318125 \r\n\" style=\"fill:none;stroke:#000000;stroke-linecap:square;stroke-linejoin:miter;stroke-width:0.8;\"/>\r\n   </g>\r\n   <g id=\"text_17\">\r\n    <!-- Scatter plot pythonspot.com -->\r\n    <g transform=\"translate(128.73625 16.318125)scale(0.12 -0.12)\">\r\n     <defs>\r\n      <path d=\"M 53.515625 70.515625 \r\nL 53.515625 60.890625 \r\nQ 47.90625 63.578125 42.921875 64.890625 \r\nQ 37.9375 66.21875 33.296875 66.21875 \r\nQ 25.25 66.21875 20.875 63.09375 \r\nQ 16.5 59.96875 16.5 54.203125 \r\nQ 16.5 49.359375 19.40625 46.890625 \r\nQ 22.3125 44.4375 30.421875 42.921875 \r\nL 36.375 41.703125 \r\nQ 47.40625 39.59375 52.65625 34.296875 \r\nQ 57.90625 29 57.90625 20.125 \r\nQ 57.90625 9.515625 50.796875 4.046875 \r\nQ 43.703125 -1.421875 29.984375 -1.421875 \r\nQ 24.8125 -1.421875 18.96875 -0.25 \r\nQ 13.140625 0.921875 6.890625 3.21875 \r\nL 6.890625 13.375 \r\nQ 12.890625 10.015625 18.65625 8.296875 \r\nQ 24.421875 6.59375 29.984375 6.59375 \r\nQ 38.421875 6.59375 43.015625 9.90625 \r\nQ 47.609375 13.234375 47.609375 19.390625 \r\nQ 47.609375 24.75 44.3125 27.78125 \r\nQ 41.015625 30.8125 33.5 32.328125 \r\nL 27.484375 33.5 \r\nQ 16.453125 35.6875 11.515625 40.375 \r\nQ 6.59375 45.0625 6.59375 53.421875 \r\nQ 6.59375 63.09375 13.40625 68.65625 \r\nQ 20.21875 74.21875 32.171875 74.21875 \r\nQ 37.3125 74.21875 42.625 73.28125 \r\nQ 47.953125 72.359375 53.515625 70.515625 \r\nz\r\n\" id=\"DejaVuSans-83\"/>\r\n      <path d=\"M 18.3125 70.21875 \r\nL 18.3125 54.6875 \r\nL 36.8125 54.6875 \r\nL 36.8125 47.703125 \r\nL 18.3125 47.703125 \r\nL 18.3125 18.015625 \r\nQ 18.3125 11.328125 20.140625 9.421875 \r\nQ 21.96875 7.515625 27.59375 7.515625 \r\nL 36.8125 7.515625 \r\nL 36.8125 0 \r\nL 27.59375 0 \r\nQ 17.1875 0 13.234375 3.875 \r\nQ 9.28125 7.765625 9.28125 18.015625 \r\nL 9.28125 47.703125 \r\nL 2.6875 47.703125 \r\nL 2.6875 54.6875 \r\nL 9.28125 54.6875 \r\nL 9.28125 70.21875 \r\nz\r\n\" id=\"DejaVuSans-116\"/>\r\n      <path d=\"M 41.109375 46.296875 \r\nQ 39.59375 47.171875 37.8125 47.578125 \r\nQ 36.03125 48 33.890625 48 \r\nQ 26.265625 48 22.1875 43.046875 \r\nQ 18.109375 38.09375 18.109375 28.8125 \r\nL 18.109375 0 \r\nL 9.078125 0 \r\nL 9.078125 54.6875 \r\nL 18.109375 54.6875 \r\nL 18.109375 46.1875 \r\nQ 20.953125 51.171875 25.484375 53.578125 \r\nQ 30.03125 56 36.53125 56 \r\nQ 37.453125 56 38.578125 55.875 \r\nQ 39.703125 55.765625 41.0625 55.515625 \r\nz\r\n\" id=\"DejaVuSans-114\"/>\r\n      <path id=\"DejaVuSans-32\"/>\r\n      <path d=\"M 18.109375 8.203125 \r\nL 18.109375 -20.796875 \r\nL 9.078125 -20.796875 \r\nL 9.078125 54.6875 \r\nL 18.109375 54.6875 \r\nL 18.109375 46.390625 \r\nQ 20.953125 51.265625 25.265625 53.625 \r\nQ 29.59375 56 35.59375 56 \r\nQ 45.5625 56 51.78125 48.09375 \r\nQ 58.015625 40.1875 58.015625 27.296875 \r\nQ 58.015625 14.40625 51.78125 6.484375 \r\nQ 45.5625 -1.421875 35.59375 -1.421875 \r\nQ 29.59375 -1.421875 25.265625 0.953125 \r\nQ 20.953125 3.328125 18.109375 8.203125 \r\nz\r\nM 48.6875 27.296875 \r\nQ 48.6875 37.203125 44.609375 42.84375 \r\nQ 40.53125 48.484375 33.40625 48.484375 \r\nQ 26.265625 48.484375 22.1875 42.84375 \r\nQ 18.109375 37.203125 18.109375 27.296875 \r\nQ 18.109375 17.390625 22.1875 11.75 \r\nQ 26.265625 6.109375 33.40625 6.109375 \r\nQ 40.53125 6.109375 44.609375 11.75 \r\nQ 48.6875 17.390625 48.6875 27.296875 \r\nz\r\n\" id=\"DejaVuSans-112\"/>\r\n      <path d=\"M 32.171875 -5.078125 \r\nQ 28.375 -14.84375 24.75 -17.8125 \r\nQ 21.140625 -20.796875 15.09375 -20.796875 \r\nL 7.90625 -20.796875 \r\nL 7.90625 -13.28125 \r\nL 13.1875 -13.28125 \r\nQ 16.890625 -13.28125 18.9375 -11.515625 \r\nQ 21 -9.765625 23.484375 -3.21875 \r\nL 25.09375 0.875 \r\nL 2.984375 54.6875 \r\nL 12.5 54.6875 \r\nL 29.59375 11.921875 \r\nL 46.6875 54.6875 \r\nL 56.203125 54.6875 \r\nz\r\n\" id=\"DejaVuSans-121\"/>\r\n     </defs>\r\n     <use xlink:href=\"#DejaVuSans-83\"/>\r\n     <use x=\"63.476562\" xlink:href=\"#DejaVuSans-99\"/>\r\n     <use x=\"118.457031\" xlink:href=\"#DejaVuSans-97\"/>\r\n     <use x=\"179.736328\" xlink:href=\"#DejaVuSans-116\"/>\r\n     <use x=\"218.945312\" xlink:href=\"#DejaVuSans-116\"/>\r\n     <use x=\"258.154297\" xlink:href=\"#DejaVuSans-101\"/>\r\n     <use x=\"319.677734\" xlink:href=\"#DejaVuSans-114\"/>\r\n     <use x=\"360.791016\" xlink:href=\"#DejaVuSans-32\"/>\r\n     <use x=\"392.578125\" xlink:href=\"#DejaVuSans-112\"/>\r\n     <use x=\"456.054688\" xlink:href=\"#DejaVuSans-108\"/>\r\n     <use x=\"483.837891\" xlink:href=\"#DejaVuSans-111\"/>\r\n     <use x=\"545.019531\" xlink:href=\"#DejaVuSans-116\"/>\r\n     <use x=\"584.228516\" xlink:href=\"#DejaVuSans-32\"/>\r\n     <use x=\"616.015625\" xlink:href=\"#DejaVuSans-112\"/>\r\n     <use x=\"679.492188\" xlink:href=\"#DejaVuSans-121\"/>\r\n     <use x=\"738.671875\" xlink:href=\"#DejaVuSans-116\"/>\r\n     <use x=\"777.880859\" xlink:href=\"#DejaVuSans-104\"/>\r\n     <use x=\"841.259766\" xlink:href=\"#DejaVuSans-111\"/>\r\n     <use x=\"902.441406\" xlink:href=\"#DejaVuSans-110\"/>\r\n     <use x=\"965.820312\" xlink:href=\"#DejaVuSans-115\"/>\r\n     <use x=\"1017.919922\" xlink:href=\"#DejaVuSans-112\"/>\r\n     <use x=\"1081.396484\" xlink:href=\"#DejaVuSans-111\"/>\r\n     <use x=\"1142.578125\" xlink:href=\"#DejaVuSans-116\"/>\r\n     <use x=\"1181.787109\" xlink:href=\"#DejaVuSans-46\"/>\r\n     <use x=\"1213.574219\" xlink:href=\"#DejaVuSans-99\"/>\r\n     <use x=\"1268.554688\" xlink:href=\"#DejaVuSans-111\"/>\r\n     <use x=\"1329.736328\" xlink:href=\"#DejaVuSans-109\"/>\r\n    </g>\r\n   </g>\r\n  </g>\r\n </g>\r\n <defs>\r\n  <clipPath id=\"pfc002cdf9a\">\r\n   <rect height=\"217.44\" width=\"334.8\" x=\"46.965625\" y=\"22.318125\"/>\r\n  </clipPath>\r\n </defs>\r\n</svg>\r\n",
      "image/png": "[encoded data removed]"
     },
     "metadata": {
      "needs_background": "light"
     }
    }
   ],
   "source": [
    "# Implement your solution here.\n",
    "alcohal = X[:,0]\n",
    "magnesium = X[:,4]\n",
    "colors = (1,0,1)\n",
    "groups = (0, 1, 2)\n",
    "area = 30\n",
    "\n",
    "# Plot\n",
    "plt.scatter(alcohal, magnesium, s=area, c=colors, alpha=0.5, label=groups)\n",
    "plt.title('Scatter plot pythonspot.com')\n",
    "plt.xlabel('Alcohal')\n",
    "plt.ylabel('Magnesium')\n",
    "plt.show()"
   ]
  },
  {
   "cell_type": "markdown",
   "metadata": {},
   "source": [
    "4) *(5 Points)* Split the dataset randomly into training and test data. 70% of data should be used for training and 30% should be used for testing. Implement the function `train_test_split`. Do not modify the interface of the function."
   ]
  },
  {
   "cell_type": "code",
   "execution_count": 210,
   "metadata": {
    "scrolled": true,
    "tags": []
   },
   "outputs": [],
   "source": [
    "def train_test_split(X, y):\n",
    "    \"\"\"\n",
    "    Returns X_train, X_test, y_train, y_test, \n",
    "        where X_train and X_test are the input features of the training and test set,\n",
    "        and y_train and y_test are the class labels of the training and test set.\n",
    "    \"\"\"\n",
    "    data = np.column_stack((X,y))\n",
    "    size_col = data.shape[1]\n",
    "    np.random.shuffle(data)\n",
    "\n",
    "    temp_y = data[:, 13]\n",
    "    new_y = np.array(temp_y , dtype=y.dtype)\n",
    "\n",
    "    new_X = data[:,:13]\n",
    "\n",
    "    train_sample = int(num_sample * 0.7)\n",
    "    test_sample = int(num_sample * 0.3)\n",
    "\n",
    "    X_train = new_X[0:train_sample, :]\n",
    "    y_train = new_y[0:train_sample]\n",
    "\n",
    "    X_test = new_X[train_sample:num_sample, :]\n",
    "    y_test = new_y[train_sample:num_sample]\n",
    "\n",
    "    return X_train, X_test, y_train, y_test\n",
    "\n",
    "X_train, X_test, y_train, y_test = train_test_split(X, y)\n",
    "\n",
    "assert (X_train.shape[0] + X_test.shape[0]) == X.shape[0]\n",
    "assert (y_train.shape[0] + y_test.shape[0]) == y.shape[0]\n",
    "assert X_train.shape[1] == X_test.shape[1]"
   ]
  },
  {
   "cell_type": "markdown",
   "metadata": {},
   "source": [
    "5) *(5 Points)* kNN uses a distance measure to identify close neighbors. If the input features are not of the same scale, the distance is not as meaningful, which can negatively impact classification performance. Perform min-max scaling (i.e. scale the values of the input features in such a way that their range is from 0 to 1) on the training and test data. Remember that you should only use information from the training data to perform the scaling on both data sets."
   ]
  },
  {
   "cell_type": "code",
   "execution_count": 238,
   "metadata": {},
   "outputs": [],
   "source": [
    "# Implement your solution here\n",
    "x_min = X_train.min()\n",
    "x_max = X_train.max()\n",
    "norm_X_train = (X_train - x_min)/(x_max - x_min)\n",
    "norm_X_test = (X_test - x_min)/(x_max - x_min)"
   ]
  },
  {
   "cell_type": "markdown",
   "metadata": {},
   "source": [
    "## Task 2: k-nearest neighbors (50 Points)\n",
    "*Choose classes randomly if weights are equal for multiple classes*\n",
    "\n",
    "**For B.Sc. Data Science:**  \n",
    "\n",
    "Implement the kNN algorithm with uniform weighting and arbitrary `k`. Fill out the `predict` method of class `KNearestNeighbors`. \n",
    "\n",
    "Use Euclidean distance to determine the nearest neighbors.\n",
    "You can ignore the optional parameter `weights`, which is provided as a field in the kNN class.\n",
    "\n",
    "**For all students other than B.Sc. Data Science:**\n",
    "\n",
    "Implement the kNN algorithm with uniform and distance-based weighting and arbitrary `k`.\n",
    "Fill out the `predict` method of class `KNearestNeighbors`.\n",
    "\n",
    "The parameter `weights` will either contain the string `uniform` or `distance`. \n",
    "- If the value is `uniform`, the classifier should use the Euclidean distance for determining nearest neighbors and uniform weighting. \n",
    "- If the value is a `distance`, the classifier should use the Euclidean distance for determining neares neighbors and perform distance-weighted classification."
   ]
  },
  {
   "cell_type": "code",
   "execution_count": 323,
   "metadata": {
    "tags": []
   },
   "outputs": [],
   "source": [
    "class KNearestNeighbors(object):\n",
    "    def __init__(self, k, weights='uniform'):\n",
    "        self.k = k\n",
    "        self.weights = weights\n",
    "        \n",
    "    def fit(self, X, y):\n",
    "        \"\"\"\n",
    "        This functions saves the training data to be used during the prediction.\n",
    "        \"\"\"\n",
    "        self.X = X\n",
    "        self.y = y\n",
    "    \n",
    "    def predict(self, X):\n",
    "        \"\"\"\n",
    "        Returns a vector of shape (n,) if X has shape (n,d), \n",
    "        where n is the number of samples and d is the number of features.\n",
    "        \"\"\"\n",
    "        # Implement your solution here.\n",
    "        if self.weights == 'uniform':\n",
    "            dist = euclidean_distance\n",
    "        else:\n",
    "            dist = self.weights\n",
    "            \n",
    "        # Compute pairwise distances between inputs and training samples.\n",
    "        pw_distances = np.array([[dist(x1, x2) for x1 in X] for x2 in self.X])\n",
    "        # Identify k nearest neighbors for each input sample.\n",
    "        neighbors = np.argsort(pw_distances, axis=0)[:self.k].T\n",
    "        labels = []\n",
    "        for idx, nb in enumerate(neighbors):\n",
    "            candidate_labels = np.unique(y_train[nb])\n",
    "            candidate_weights = []\n",
    "\n",
    "            for candidate in candidate_labels:\n",
    "                if self.weights == 'uniform': # uniform weights\n",
    "                    candidate_weight = np.sum(self.y[nb] == candidate)\n",
    "                else: # distance-weighted\n",
    "                    weights = 1.0/pw_distances[nb, idx][self.y[nb] == candidate]\n",
    "                    # If distance is 0, the corresponding weight will be infinity,\n",
    "                    # which results in us just looking up the correct label or performing 1-NN.\n",
    "                    candidate_weight = np.sum(weights)\n",
    "                \n",
    "                candidate_weights.append(candidate_weight)\n",
    "            \n",
    "            # Select the class label with highest weight.\n",
    "            label_idx = np.argmax(candidate_weights)\n",
    "            label = candidate_labels[label_idx]\n",
    "            labels.append(label)\n",
    "        \n",
    "        return np.array(labels)\n",
    "        \n",
    "\n",
    "    \n",
    "def euclidean_distance(x1, x2):\n",
    "    \"\"\"\n",
    "    Given vectors x1 and x2 with shape (n,) returns distance between vectors as float.\n",
    "    \"\"\"\n",
    "    return np.sqrt(np.sum((x1 - x2)*(x1 - x2)))"
   ]
  },
  {
   "cell_type": "markdown",
   "metadata": {},
   "source": [
    "## Task 3: Evaluation (25 Points)\n",
    "\n",
    "1) *(10 Points)* Implement functions to compute precision, recall and F1-score. `y_pred` and `y_true` are the vectors of predicted and true class labels respectively with shape `(n,)`, where `n` is the number of samples. Each function should return a float containing the corresponding score. It is advisable to implement a function for the confusion matrix and reuse it."
   ]
  },
  {
   "cell_type": "code",
   "execution_count": 399,
   "metadata": {},
   "outputs": [
    {
     "output_type": "stream",
     "name": "stdout",
     "text": [
      "2\n[0.0, 1.0]\n0.5\nRecall\n2\n[1.0, 1.0]\n1.0\n"
     ]
    }
   ],
   "source": [
    "def precision(y_pred, y_true):\n",
    "    # Implement your solution here.\n",
    "    # precision = tp / (tp + fp)\n",
    "    \n",
    "    #g_truth = set(y_pred).union(set(y_true))\n",
    "    g_truth = np.union1d(np.unique(y_pred),np.unique(y_true))\n",
    "    print(len(g_truth))\n",
    "    precision_new = list()\n",
    "    for classes in g_truth:        \n",
    "        t_pos, t_neg, f_pos, f_neg = calculate_confusion_matrix(y_pred, y_true, classes)\n",
    "        if((t_pos + f_pos) != 0):\n",
    "            precision_temp = t_pos / float(t_pos + f_pos)\n",
    "        else:        \n",
    "            precision_temp = 0\n",
    "        precision_new.append(precision_temp)\n",
    "    print(precision_new)\n",
    "    print(np.mean(precision_new))\n",
    "    return np.mean(precision_new)\n",
    "\n",
    "def recall(y_pred, y_true):\n",
    "    # Implement your solution here.\n",
    "    print(\"Recall\")\n",
    "    g_truth = np.union1d(np.unique(y_pred),np.unique(y_true))\n",
    "    print(len(g_truth))\n",
    "    recall_new = list()\n",
    "    for classes in g_truth:        \n",
    "        t_pos, t_neg, f_pos, f_neg = calculate_confusion_matrix(y_pred, y_true, classes)\n",
    "        try:\n",
    "            recall_temp = t_pos / float(t_pos + f_neg)\n",
    "        except:\n",
    "            recall_temp = 0\n",
    "        recall_new.append(recall_temp)\n",
    "    print(recall_new)\n",
    "    print(np.mean(recall_new))\n",
    "\n",
    "def f1score(y_pred, y_true):\n",
    "    # Implement your solution here.\n",
    "    print(\"test\")\n",
    "\n",
    "def calculate_confusion_matrix(y_pred, y_true, groud_truth):\n",
    "#function for the calculation of confusion matrix\n",
    "    true_pos = 0\n",
    "    true_neg = 0\n",
    "    false_pos = 0\n",
    "    false_pos = 0\n",
    "    true_pos = sum(1 for y_p,y_t in zip(y_pred, y_true) if y_p==y_t and groud_truth==y_t)\n",
    "    true_neg = sum(1 for y_p,y_t in zip(y_pred, y_true) if y_p==y_t and groud_truth!=y_t)\n",
    "    false_pos = sum(1 for y_p,y_t in zip(y_pred, y_true) if y_p!=y_t and groud_truth==y_t)\n",
    "    false_neg = sum(1 for y_p,y_t in zip(y_pred, y_true) if y_p!=y_t and groud_truth!=y_t)\n",
    "\n",
    "    return true_pos,true_neg,false_pos,false_neg\n",
    "#gold = [1] * 20 + [0] * 10 + [2] * 15\n",
    "#predicted = [1] * 14 + [0] * 21 + [2] * 10\n",
    "gold = [1] + [0] * 9\n",
    "predicted = [1] * 10\n",
    "precision(predicted, gold)\n",
    "recall(predicted, gold)"
   ]
  },
  {
   "cell_type": "markdown",
   "metadata": {},
   "source": [
    "2) *(10 Points)* Evaluate the performance of kNN with uniform weighting on the Wine dataset for `k=1,5,9`. Train each of the `3` classifiers on the training data from Task 1. Perform the predictions on both the training and test data. Then compute precision, recall, and F1-score for each model and for both training and test data. Visualize the performance in a plot, what do you observe?\n",
    "\n",
    "**For all students other than B.Sc. Data Science:** \n",
    "\n",
    "Also evaluate the kNN classifier with Euclidean distance-weighting. Compare the performance to uniform-weighting. How does the performance change compared to uniform weighting for each `k`?"
   ]
  },
  {
   "cell_type": "code",
   "execution_count": 345,
   "metadata": {},
   "outputs": [
    {
     "output_type": "stream",
     "name": "stdout",
     "text": [
      "1.0\n0.1\n0.18181818181818182\n"
     ]
    }
   ],
   "source": [
    "# Implement your solution here.\n",
    "gold = [1] + [0] * 9\n",
    "predicted = [1] * 10\n",
    "label1 = [1] * 5\n",
    "label2 = [0] * 5\n",
    "label = np.union1d(label, label2)\n",
    "true_pos = sum(1 for p,g in zip(predicted, gold) if p==g and label.any()==g)\n",
    "true_neg = sum(1 for p,g in zip(predicted, gold) if p==g and label.any()!=g)\n",
    "false_pos = sum(1 for p,g in zip(predicted, gold) if p!=g and label.any()!=g)\n",
    "false_neg = sum(1 for p,g in zip(predicted, gold) if p!=g and label.any()==g)\n",
    "try:\n",
    "    recall = true_pos / float(true_pos + false_neg)\n",
    "except:\n",
    "    recall = 0\n",
    "try:\n",
    "    precision = true_pos / float(true_pos + false_pos)\n",
    "except:\n",
    "    precision = 0\n",
    "try:\n",
    "    fscore = 2*precision*recall / (precision + recall)\n",
    "except:\n",
    "    fscore = 0\n",
    "try:\n",
    "    accuracy = (true_pos + true_neg) / float(len(gold))\n",
    "except:\n",
    "    accuracy = 0\n",
    "\n",
    "print(recall)\n",
    "print(precision)\n",
    "print(fscore)\n",
    "\n"
   ]
  },
  {
   "cell_type": "markdown",
   "metadata": {},
   "source": [
    "==> *Write your observations here and report your results.* (double klick here to edit)"
   ]
  },
  {
   "cell_type": "markdown",
   "metadata": {},
   "source": [
    "3) *(5 Points)* Explain why kNN with `k=1` achieves perfect results on the training data. Why is it not the best model?"
   ]
  },
  {
   "cell_type": "markdown",
   "metadata": {},
   "source": [
    "==> *Write your response here.* (double klick here to edit)"
   ]
  }
 ],
 "metadata": {
  "kernelspec": {
   "name": "python385jvsc74a57bd0b3ba2566441a7c06988d0923437866b63cedc61552a5af99d1f4fb67d367b25f",
   "display_name": "Python 3.8.5 64-bit (conda)"
  },
  "language_info": {
   "codemirror_mode": {
    "name": "ipython",
    "version": 3
   },
   "file_extension": ".py",
   "mimetype": "text/x-python",
   "name": "python",
   "nbconvert_exporter": "python",
   "pygments_lexer": "ipython3",
   "version": "3.8.5"
  }
 },
 "nbformat": 4,
 "nbformat_minor": 1
}